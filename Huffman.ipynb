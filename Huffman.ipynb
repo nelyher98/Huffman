{
 "cells": [
  {
   "cell_type": "markdown",
   "metadata": {},
   "source": [
    "# Huffman Code"
   ]
  },
  {
   "cell_type": "markdown",
   "metadata": {},
   "source": [
    "* Alumna: Hernández García Nely"
   ]
  },
  {
   "cell_type": "code",
   "execution_count": 6,
   "metadata": {},
   "outputs": [],
   "source": [
    "#Libraries\n",
    "import pandas as pd\n",
    "import numpy as np  \n",
    "import docx"
   ]
  },
  {
   "cell_type": "code",
   "execution_count": 256,
   "metadata": {},
   "outputs": [
    {
     "name": "stdout",
     "output_type": "stream",
     "text": [
      "\n",
      "El último vuelo del Concorde\n",
      "El Concorde, el primer avión supersónico para transporte de pasajeros, estuvo operativo desde 1976 hasta 2003. \n",
      "Decían que el cielo era el límite del ser humano, pero en cuanto fue posible demostramos que no era así; que podíamos llegar mucho más lejos. Desde los diseños nacidos de la brillante mente de Leonardo da Vinci hasta el primer éxito de los hermanos Wright, la historia de la aviación resulta tan fascinante como intensa y ha marcado algunos de los momentos clave para la humanidad. Entre ellos queremos destacar el avión supersónico Concorde, un ejemplo de las ansias del ser humano por ir más lejos. El proyecto nació en la década de 1950, en plena Guerra Fría. Estados Unidos, Gran Bretaña, Francia y la Unión Soviética comenzaron a plantearse la posibilidad de crear un avión comercial que fuera capaz de alcanzar velocidades supersónicas (por encima de los 1234.8km/h). Aunque la idea rondaba por el ambiente, solo Francia y Gran Bretaña la afrontaron seriamente y comenzaron a diseñar proyectos independientes financiados, en gran parte, por sus gobiernos. Diez años después, en 1960, Gran Bretaña tenía un diseño listo para su construcción, pero los enormes costes que supondría obligaron al país a llegar a un acuerdo de colaboración con Francia. El nombre de Concorde (concordia) hace referencia precisamente a este trabajo conjunto que ambos países llevaron a cabo. El primer vuelo tuvo lugar en marzo de 1969 y se introdujo en las aerolíneas de forma regular a partir del 21 de enero de 1976. British Airlines y Air France fueron las dos compañías propietarias de este tipo de aviones, aunque alquilaron algunos a Braniff International Airways y Singapore Airlines. Los vuelos podían recorrer la distancia entre Londres y Nueva York en poco más de 3 horas y podían alcanzar una velocidad máxima de 2.179km/h. Realizó principalmente a los aeropuertos de París, Londres, Nueva York y Washington y entre los 2.5 millones de pasajeros que trasladó en los 27 años en que estuvo activo se destacan Mick Jagger, Sean Connery, Elizabeth Taylor o la reina Isabel II de Inglaterra. \n",
      "Aunque el Concorde suponía un impresionante avance tecnológico y una obra de ingeniería digna de admiración, las cosas no salieron como se esperaba. El mantenimiento de la aeronave era muy alto y el consumo de combustible mucho mayor del de otros aviones, lo que hizo que los precios de los billetes llegaran a alcanzar precios exorbitados de hasta 10.000 dólares. Además, en julio del 2000, el vuelo 4590 de Air France sufrió un accidente durante el vuelo y se estrelló en la ciudad francesa de Gonesse. Hubo más de 100 muertos entre los pasajeros, la tripulación y el personal en tierra.\n",
      "Este incidente, los costes de mantenimiento y la caída en la demanda de vuelos tras los atentados del 11-Septiembre hicieron que Air France y British Airlines decidieron poner fin a los 27 años de servicio y retirar los aviones Concorde. Su último vuelo se produjo el 26 de noviembre del 2003. Los 16 modelos que fueron empleados para vuelos comerciales y dos de los prototipos están guardados en distintos museos del mundo como recuerdo del hito que supuso el Concorde.\n",
      "El avión supersónico que venía a México\n",
      "\n",
      "Esta aeronave de tecnología británico-francesa logró fama mundial por acortar a la\n",
      "mitad rutas internacionales. Visitó México por tan solo cuatro años, pero su llegada\n",
      "siempre era espectacular, el sonido de sus potentes motores lo hacía único Un suceso que comparte México con varios países del mundo es cuando el Concorde volaba sobre su territorio; el avión de manufactura franco-británica era famoso en todo el orbe debido a su capacidad de cruzar el Atlántico en poco más de siete horas, gracias a su tecnología supersónica. El aeroplano aterrizó por primera vez en la capital mexicana el 20 de octubre de 1974, como parte de una gira que autoridades de ambos países dieron para promocionar la aeronave e ir concretando ventas con diferentes compañías dedicadas a la venta de viajes transcontinentales, que arrancarían después de la primavera de 1975. Dentro de las páginas de El Gran Diario de México se explicaba que este avión volaba a más de “dos veces la velocidad del sonido, es decir, a 2 mil 200 kilómetros por hora, transportando hasta 144 pasajeros en etapas de 6 mil o 6 mil 500 km, es decir, la distancia que existe entre París y Nueva York, reduciendo la mitad del tiempo de los viajes de la mayoría de las rutas aéreas mundiales”. El avión fue producto de un intenso ejercicio de investigación, intercambio, experimentación y prueba que al igual que de un gran financiamiento proveniente de- autoridades británicas y francesas tuvieron a lo largo de una década. Los primeros aviones que salieron de sus talleres fueron entregados a las compañías British Airways y Air France para que iniciaran operaciones comerciales a finales de 1975 o principios de 1976. Así fue como aterrizó en nuestro país el Concorde de la preserie 02, ensamblado en Francia y según el reportaje de EL UNIVERSAL, el modelo era de “mayores dimensiones, más poderoso y exento de humo; su ruido está ya muy atenuado. Ese mismo avión había realizado el primer viaje trasatlántico en noviembre de 1973, siguiendo la ruta París - Washington, en un tiempo de 3 horas con 33 minutos. Sin embargo, fue hasta septiembre de 1978 que el Concorde de Air France programó vuelos comerciales a nuestro país, con la ruta París - Washington - México (que en los años posteriores cambiaría por París - Nueva York - México) teniendo a bordo a representantes del gobierno francés. Los funcionarios calificaron al evento como de suma importancia ya que “en nuestros días, la aeronave no sólo constituye un medio de transporte de personas y bienes, sino también, y más importante aún, la posibilidad cierta y efectiva de comunicación entre los hombres. El nombre Concorde significa en idioma francés concordia y este es el signo bajo el cual, ciertamente, se inspiran ahora como en el futuro las relaciones entre nuestros pueblos”. El vuelo tuvo una duración total de 7 horas con 22 minutos, haciendo una escala de 45 minutos en Washington para cargar combustible. El Concorde sobrevoló territorio mexicano por cuatro años, siendo su último despegue el 1 de noviembre de 1982; esta decisión la tomó la empresa Air France tras aceptar que el precio del pasaje era demasiado elevado para los usuarios de este medio de transporte en el país. En el artículo “Ante cientos de personas, el Concorde dijo adiós a México”, Juan Rodríguez contó a los lectores de EL UNIVERSAL el ambiente que se vivió en las afueras del AICM:\n",
      "“Sin ninguna ceremonia y frente a la mirada de cientos de personas que fueron a despedirlo, el supersónico Concorde se elevó en los aires para no volver.\"\n"
     ]
    }
   ],
   "source": [
    "# Adding it to a variable.\n",
    "\n",
    "def getText(filename):\n",
    "    doc = docx.Document(filename)\n",
    "    fullText = []\n",
    "    for para in doc.paragraphs:\n",
    "        fullText.append(para.text)\n",
    "    return '\\n'.join(fullText)\n",
    "\n",
    "mytext = getText(\"El último vuelo del Concorde-1134_Palabras.docx\")\n",
    "print(mytext)"
   ]
  },
  {
   "cell_type": "code",
   "execution_count": 257,
   "metadata": {},
   "outputs": [],
   "source": [
    "#Get rid of the spaces\n",
    "mytext = mytext.replace('\\n',\"\")\n",
    "mytext = str(mytext)\n",
    "#text = text.replace(' ',\"\")"
   ]
  },
  {
   "cell_type": "code",
   "execution_count": 258,
   "metadata": {},
   "outputs": [
    {
     "name": "stdout",
     "output_type": "stream",
     "text": [
      "Per char frequency is :\n",
      " {'E': 24, 'l': 264, ' ': 1126, 'ú': 6, 't': 228, 'i': 338, 'm': 145, 'o': 481, 'v': 72, 'u': 188, 'e': 687, 'd': 256, 'C': 16, 'n': 388, 'c': 219, 'r': 398, ',': 56, 'p': 137, 'a': 578, 'ó': 45, 's': 381, 'j': 20, '1': 22, '9': 15, '7': 12, '6': 9, 'h': 39, '2': 17, '0': 22, '3': 8, '.': 38, 'D': 5, 'í': 40, 'q': 34, 'f': 37, 'b': 56, ';': 4, 'g': 46, 'á': 18, 'ñ': 15, 'L': 11, 'V': 4, 'é': 17, 'x': 16, 'W': 5, 'y': 44, '5': 7, 'G': 6, 'F': 11, 'U': 5, 'B': 7, 'S': 9, 'z': 17, '(': 3, '4': 6, '8': 3, 'k': 9, '/': 2, ')': 3, 'A': 20, 'I': 8, 'w': 2, 'N': 6, 'Y': 4, 'R': 4, 'P': 5, 'M': 9, 'J': 2, 'T': 1, 'H': 1, '-': 9, '“': 5, '”': 3, ':': 1, '\"': 1}\n"
     ]
    }
   ],
   "source": [
    "freq = {key: mytext.count(key) for key in mytext}\n",
    "frequency = list([(k, v) for k, v in freq.items()])\n",
    "print (f\"Per char frequency is :\\n {str(freq)}\")"
   ]
  },
  {
   "cell_type": "code",
   "execution_count": 259,
   "metadata": {},
   "outputs": [
    {
     "data": {
      "text/html": [
       "<div>\n",
       "<style scoped>\n",
       "    .dataframe tbody tr th:only-of-type {\n",
       "        vertical-align: middle;\n",
       "    }\n",
       "\n",
       "    .dataframe tbody tr th {\n",
       "        vertical-align: top;\n",
       "    }\n",
       "\n",
       "    .dataframe thead th {\n",
       "        text-align: right;\n",
       "    }\n",
       "</style>\n",
       "<table border=\"1\" class=\"dataframe\">\n",
       "  <thead>\n",
       "    <tr style=\"text-align: right;\">\n",
       "      <th></th>\n",
       "      <th>Characters</th>\n",
       "      <th>Frecuency</th>\n",
       "    </tr>\n",
       "  </thead>\n",
       "  <tbody>\n",
       "    <tr>\n",
       "      <th>0</th>\n",
       "      <td>\"</td>\n",
       "      <td>1</td>\n",
       "    </tr>\n",
       "    <tr>\n",
       "      <th>1</th>\n",
       "      <td>H</td>\n",
       "      <td>1</td>\n",
       "    </tr>\n",
       "    <tr>\n",
       "      <th>2</th>\n",
       "      <td>T</td>\n",
       "      <td>1</td>\n",
       "    </tr>\n",
       "    <tr>\n",
       "      <th>3</th>\n",
       "      <td>:</td>\n",
       "      <td>1</td>\n",
       "    </tr>\n",
       "    <tr>\n",
       "      <th>4</th>\n",
       "      <td>/</td>\n",
       "      <td>2</td>\n",
       "    </tr>\n",
       "  </tbody>\n",
       "</table>\n",
       "</div>"
      ],
      "text/plain": [
       "  Characters  Frecuency\n",
       "0          \"          1\n",
       "1          H          1\n",
       "2          T          1\n",
       "3          :          1\n",
       "4          /          2"
      ]
     },
     "metadata": {},
     "output_type": "display_data"
    },
    {
     "data": {
      "text/html": [
       "<div>\n",
       "<style scoped>\n",
       "    .dataframe tbody tr th:only-of-type {\n",
       "        vertical-align: middle;\n",
       "    }\n",
       "\n",
       "    .dataframe tbody tr th {\n",
       "        vertical-align: top;\n",
       "    }\n",
       "\n",
       "    .dataframe thead th {\n",
       "        text-align: right;\n",
       "    }\n",
       "</style>\n",
       "<table border=\"1\" class=\"dataframe\">\n",
       "  <thead>\n",
       "    <tr style=\"text-align: right;\">\n",
       "      <th></th>\n",
       "      <th>Characters</th>\n",
       "      <th>Frecuency</th>\n",
       "    </tr>\n",
       "  </thead>\n",
       "  <tbody>\n",
       "    <tr>\n",
       "      <th>70</th>\n",
       "      <td>r</td>\n",
       "      <td>398</td>\n",
       "    </tr>\n",
       "    <tr>\n",
       "      <th>71</th>\n",
       "      <td>o</td>\n",
       "      <td>481</td>\n",
       "    </tr>\n",
       "    <tr>\n",
       "      <th>72</th>\n",
       "      <td>a</td>\n",
       "      <td>578</td>\n",
       "    </tr>\n",
       "    <tr>\n",
       "      <th>73</th>\n",
       "      <td>e</td>\n",
       "      <td>687</td>\n",
       "    </tr>\n",
       "    <tr>\n",
       "      <th>74</th>\n",
       "      <td></td>\n",
       "      <td>1126</td>\n",
       "    </tr>\n",
       "  </tbody>\n",
       "</table>\n",
       "</div>"
      ],
      "text/plain": [
       "   Characters  Frecuency\n",
       "70          r        398\n",
       "71          o        481\n",
       "72          a        578\n",
       "73          e        687\n",
       "74                  1126"
      ]
     },
     "metadata": {},
     "output_type": "display_data"
    }
   ],
   "source": [
    "tabla = pd.DataFrame(data={\"Characters\": list(freq.keys()), \"Frecuency\":list(freq.values())}).sort_values(by=\"Frecuency\").reset_index(drop=True)\n",
    "display(tabla.head(5))\n",
    "display(tabla.tail(5))"
   ]
  },
  {
   "cell_type": "code",
   "execution_count": 260,
   "metadata": {},
   "outputs": [
    {
     "name": "stdout",
     "output_type": "stream",
     "text": [
      "The total frecuency is 6756 characters\n",
      "The total number of characters are: 75\n"
     ]
    }
   ],
   "source": [
    "total_frecuency = sum(tabla.Frecuency)\n",
    "print(f\"The total frecuency is {total_frecuency} characters\\nThe total number of characters are: {tabla.Characters.count()}\")"
   ]
  },
  {
   "cell_type": "code",
   "execution_count": 261,
   "metadata": {},
   "outputs": [
    {
     "data": {
      "text/html": [
       "<div>\n",
       "<style scoped>\n",
       "    .dataframe tbody tr th:only-of-type {\n",
       "        vertical-align: middle;\n",
       "    }\n",
       "\n",
       "    .dataframe tbody tr th {\n",
       "        vertical-align: top;\n",
       "    }\n",
       "\n",
       "    .dataframe thead th {\n",
       "        text-align: right;\n",
       "    }\n",
       "</style>\n",
       "<table border=\"1\" class=\"dataframe\">\n",
       "  <thead>\n",
       "    <tr style=\"text-align: right;\">\n",
       "      <th></th>\n",
       "      <th>Characters</th>\n",
       "      <th>Frecuency</th>\n",
       "      <th>Probability</th>\n",
       "      <th>Log2(p)</th>\n",
       "      <th>p*Log2(P)</th>\n",
       "    </tr>\n",
       "  </thead>\n",
       "  <tbody>\n",
       "    <tr>\n",
       "      <th>0</th>\n",
       "      <td>\"</td>\n",
       "      <td>1</td>\n",
       "      <td>0.000148</td>\n",
       "      <td>-12.721954</td>\n",
       "      <td>-0.001883</td>\n",
       "    </tr>\n",
       "    <tr>\n",
       "      <th>1</th>\n",
       "      <td>H</td>\n",
       "      <td>1</td>\n",
       "      <td>0.000148</td>\n",
       "      <td>-12.721954</td>\n",
       "      <td>-0.001883</td>\n",
       "    </tr>\n",
       "    <tr>\n",
       "      <th>2</th>\n",
       "      <td>T</td>\n",
       "      <td>1</td>\n",
       "      <td>0.000148</td>\n",
       "      <td>-12.721954</td>\n",
       "      <td>-0.001883</td>\n",
       "    </tr>\n",
       "    <tr>\n",
       "      <th>3</th>\n",
       "      <td>:</td>\n",
       "      <td>1</td>\n",
       "      <td>0.000148</td>\n",
       "      <td>-12.721954</td>\n",
       "      <td>-0.001883</td>\n",
       "    </tr>\n",
       "    <tr>\n",
       "      <th>4</th>\n",
       "      <td>/</td>\n",
       "      <td>2</td>\n",
       "      <td>0.000296</td>\n",
       "      <td>-11.721954</td>\n",
       "      <td>-0.003470</td>\n",
       "    </tr>\n",
       "    <tr>\n",
       "      <th>5</th>\n",
       "      <td>w</td>\n",
       "      <td>2</td>\n",
       "      <td>0.000296</td>\n",
       "      <td>-11.721954</td>\n",
       "      <td>-0.003470</td>\n",
       "    </tr>\n",
       "    <tr>\n",
       "      <th>6</th>\n",
       "      <td>J</td>\n",
       "      <td>2</td>\n",
       "      <td>0.000296</td>\n",
       "      <td>-11.721954</td>\n",
       "      <td>-0.003470</td>\n",
       "    </tr>\n",
       "    <tr>\n",
       "      <th>7</th>\n",
       "      <td>)</td>\n",
       "      <td>3</td>\n",
       "      <td>0.000444</td>\n",
       "      <td>-11.136991</td>\n",
       "      <td>-0.004945</td>\n",
       "    </tr>\n",
       "    <tr>\n",
       "      <th>8</th>\n",
       "      <td>(</td>\n",
       "      <td>3</td>\n",
       "      <td>0.000444</td>\n",
       "      <td>-11.136991</td>\n",
       "      <td>-0.004945</td>\n",
       "    </tr>\n",
       "    <tr>\n",
       "      <th>9</th>\n",
       "      <td>8</td>\n",
       "      <td>3</td>\n",
       "      <td>0.000444</td>\n",
       "      <td>-11.136991</td>\n",
       "      <td>-0.004945</td>\n",
       "    </tr>\n",
       "  </tbody>\n",
       "</table>\n",
       "</div>"
      ],
      "text/plain": [
       "  Characters  Frecuency  Probability    Log2(p)  p*Log2(P)\n",
       "0          \"          1     0.000148 -12.721954  -0.001883\n",
       "1          H          1     0.000148 -12.721954  -0.001883\n",
       "2          T          1     0.000148 -12.721954  -0.001883\n",
       "3          :          1     0.000148 -12.721954  -0.001883\n",
       "4          /          2     0.000296 -11.721954  -0.003470\n",
       "5          w          2     0.000296 -11.721954  -0.003470\n",
       "6          J          2     0.000296 -11.721954  -0.003470\n",
       "7          )          3     0.000444 -11.136991  -0.004945\n",
       "8          (          3     0.000444 -11.136991  -0.004945\n",
       "9          8          3     0.000444 -11.136991  -0.004945"
      ]
     },
     "metadata": {},
     "output_type": "display_data"
    },
    {
     "data": {
      "text/html": [
       "<div>\n",
       "<style scoped>\n",
       "    .dataframe tbody tr th:only-of-type {\n",
       "        vertical-align: middle;\n",
       "    }\n",
       "\n",
       "    .dataframe tbody tr th {\n",
       "        vertical-align: top;\n",
       "    }\n",
       "\n",
       "    .dataframe thead th {\n",
       "        text-align: right;\n",
       "    }\n",
       "</style>\n",
       "<table border=\"1\" class=\"dataframe\">\n",
       "  <thead>\n",
       "    <tr style=\"text-align: right;\">\n",
       "      <th></th>\n",
       "      <th>Characters</th>\n",
       "      <th>Frecuency</th>\n",
       "      <th>Probability</th>\n",
       "      <th>Log2(p)</th>\n",
       "      <th>p*Log2(P)</th>\n",
       "    </tr>\n",
       "  </thead>\n",
       "  <tbody>\n",
       "    <tr>\n",
       "      <th>65</th>\n",
       "      <td>d</td>\n",
       "      <td>256</td>\n",
       "      <td>0.037892</td>\n",
       "      <td>-4.721954</td>\n",
       "      <td>-0.178925</td>\n",
       "    </tr>\n",
       "    <tr>\n",
       "      <th>66</th>\n",
       "      <td>l</td>\n",
       "      <td>264</td>\n",
       "      <td>0.039076</td>\n",
       "      <td>-4.677559</td>\n",
       "      <td>-0.182782</td>\n",
       "    </tr>\n",
       "    <tr>\n",
       "      <th>67</th>\n",
       "      <td>i</td>\n",
       "      <td>338</td>\n",
       "      <td>0.050030</td>\n",
       "      <td>-4.321074</td>\n",
       "      <td>-0.216182</td>\n",
       "    </tr>\n",
       "    <tr>\n",
       "      <th>68</th>\n",
       "      <td>s</td>\n",
       "      <td>381</td>\n",
       "      <td>0.056394</td>\n",
       "      <td>-4.148306</td>\n",
       "      <td>-0.233941</td>\n",
       "    </tr>\n",
       "    <tr>\n",
       "      <th>69</th>\n",
       "      <td>n</td>\n",
       "      <td>388</td>\n",
       "      <td>0.057430</td>\n",
       "      <td>-4.122041</td>\n",
       "      <td>-0.236731</td>\n",
       "    </tr>\n",
       "    <tr>\n",
       "      <th>70</th>\n",
       "      <td>r</td>\n",
       "      <td>398</td>\n",
       "      <td>0.058911</td>\n",
       "      <td>-4.085329</td>\n",
       "      <td>-0.240669</td>\n",
       "    </tr>\n",
       "    <tr>\n",
       "      <th>71</th>\n",
       "      <td>o</td>\n",
       "      <td>481</td>\n",
       "      <td>0.071196</td>\n",
       "      <td>-3.812061</td>\n",
       "      <td>-0.271403</td>\n",
       "    </tr>\n",
       "    <tr>\n",
       "      <th>72</th>\n",
       "      <td>a</td>\n",
       "      <td>578</td>\n",
       "      <td>0.085554</td>\n",
       "      <td>-3.547028</td>\n",
       "      <td>-0.303461</td>\n",
       "    </tr>\n",
       "    <tr>\n",
       "      <th>73</th>\n",
       "      <td>e</td>\n",
       "      <td>687</td>\n",
       "      <td>0.101687</td>\n",
       "      <td>-3.297787</td>\n",
       "      <td>-0.335343</td>\n",
       "    </tr>\n",
       "    <tr>\n",
       "      <th>74</th>\n",
       "      <td></td>\n",
       "      <td>1126</td>\n",
       "      <td>0.166667</td>\n",
       "      <td>-2.584963</td>\n",
       "      <td>-0.430827</td>\n",
       "    </tr>\n",
       "  </tbody>\n",
       "</table>\n",
       "</div>"
      ],
      "text/plain": [
       "   Characters  Frecuency  Probability   Log2(p)  p*Log2(P)\n",
       "65          d        256     0.037892 -4.721954  -0.178925\n",
       "66          l        264     0.039076 -4.677559  -0.182782\n",
       "67          i        338     0.050030 -4.321074  -0.216182\n",
       "68          s        381     0.056394 -4.148306  -0.233941\n",
       "69          n        388     0.057430 -4.122041  -0.236731\n",
       "70          r        398     0.058911 -4.085329  -0.240669\n",
       "71          o        481     0.071196 -3.812061  -0.271403\n",
       "72          a        578     0.085554 -3.547028  -0.303461\n",
       "73          e        687     0.101687 -3.297787  -0.335343\n",
       "74                  1126     0.166667 -2.584963  -0.430827"
      ]
     },
     "metadata": {},
     "output_type": "display_data"
    }
   ],
   "source": [
    "tabla[\"Probability\"] = tabla.Frecuency/total_frecuency\n",
    "tabla['Log2(p)'] = np.log2(tabla.Probability)\n",
    "tabla[\"p*Log2(P)\"] = tabla.Probability * tabla[\"Log2(p)\"]\n",
    "display(tabla.head(10))\n",
    "display(tabla.tail(10))\n",
    "#tabla.to_excel(\"C:/Users/almej/Desktop/output.xlsx\") "
   ]
  },
  {
   "cell_type": "code",
   "execution_count": 262,
   "metadata": {},
   "outputs": [
    {
     "name": "stdout",
     "output_type": "stream",
     "text": [
      "Calculated entropy: 4.461743348877409\n"
     ]
    }
   ],
   "source": [
    "entropy=sum(tabla['p*Log2(P)'])*-1\n",
    "print(\"Calculated entropy:\", entropy)"
   ]
  },
  {
   "cell_type": "markdown",
   "metadata": {},
   "source": [
    "### Computing the Huffman Tree Encoding "
   ]
  },
  {
   "cell_type": "code",
   "execution_count": 263,
   "metadata": {},
   "outputs": [],
   "source": [
    "#Creating Nodes and Classes.\n",
    "class Nodes():\n",
    "    \n",
    "    #Predifined values to start with the class\n",
    "    def __init__(self, left=None, right=None):\n",
    "        self.left= left\n",
    "        self.right = right\n",
    "    def children(self):\n",
    "        #Returning as tuplas\n",
    "        return (self.left, self.right)\n",
    "    def nodes(self):\n",
    "        #Returning as tuplas\n",
    "        return (self.left,self.right)\n",
    "    def __str__(self):\n",
    "        return '%s_%s' % (self.left, self.right)"
   ]
  },
  {
   "cell_type": "code",
   "execution_count": 264,
   "metadata": {},
   "outputs": [],
   "source": [
    "# Main function implementing huffman coding\n",
    "def huffman(node, left=True, separetor=''):\n",
    "    #Checking for the values to be string.\n",
    "    if type(node) is str:\n",
    "        #Returning the value as dictionary\n",
    "        return {node: separetor}\n",
    "    #Making a tuple\n",
    "    (l, r) = node.children()\n",
    "    #Empty dictionary\n",
    "    d = dict()\n",
    "    #Updating nodes/ leafes\n",
    "    #Updating left side with 0\n",
    "    d.update(huffman(l, True, separetor + '0'))\n",
    "    #Updating right side with 0\n",
    "    d.update(huffman(r, False, separetor + '1'))\n",
    "    #Returning eachside. \n",
    "    return d"
   ]
  },
  {
   "cell_type": "code",
   "execution_count": 265,
   "metadata": {},
   "outputs": [],
   "source": [
    "nodes=frequency\n",
    "#Runing while exist one node to add.\n",
    "while len(nodes) > 1:\n",
    "    #Starting with small node and join the letter with the frecuency\n",
    "    (key1, c1) = nodes[-1]\n",
    "    #print(key1, c1)\n",
    "     #Starting with small node and join the letter with the frecuency\n",
    "    (key2, c2) = nodes[-2]\n",
    "    #print(key2,c2)\n",
    "    #Updating\n",
    "    nodes = nodes[:-2]\n",
    "    #print(nodes)\n",
    "    #Nodes letters\n",
    "    node = Nodes(key1, key2)\n",
    "    #print(node)\n",
    "    #Adding new values to the node of each side.\n",
    "    nodes.append((node, c1 + c2))\n",
    "    #Sorting as the same af the frecuency.\n",
    "    nodes = sorted(nodes, key=lambda x: x[1], reverse=True)\n"
   ]
  },
  {
   "cell_type": "code",
   "execution_count": 266,
   "metadata": {},
   "outputs": [],
   "source": [
    "#Getting the dictionary\n",
    "codification = huffman(nodes[0][0])\n",
    "#Converting to a DataFrame to be better to  work with\n",
    "codification = pd.DataFrame(data={\"Characters\": list(codification.keys()), \"Encoding\":list(codification.values())}).sort_values(by=\"Characters\").reset_index(drop=True)"
   ]
  },
  {
   "cell_type": "code",
   "execution_count": 267,
   "metadata": {},
   "outputs": [
    {
     "name": "stdout",
     "output_type": "stream",
     "text": [
      "We comprobed that the values from each dataframe are the same: True\n"
     ]
    },
    {
     "data": {
      "text/html": [
       "<div>\n",
       "<style scoped>\n",
       "    .dataframe tbody tr th:only-of-type {\n",
       "        vertical-align: middle;\n",
       "    }\n",
       "\n",
       "    .dataframe tbody tr th {\n",
       "        vertical-align: top;\n",
       "    }\n",
       "\n",
       "    .dataframe thead th {\n",
       "        text-align: right;\n",
       "    }\n",
       "</style>\n",
       "<table border=\"1\" class=\"dataframe\">\n",
       "  <thead>\n",
       "    <tr style=\"text-align: right;\">\n",
       "      <th></th>\n",
       "      <th>Characters</th>\n",
       "      <th>Encoding</th>\n",
       "    </tr>\n",
       "  </thead>\n",
       "  <tbody>\n",
       "    <tr>\n",
       "      <th>0</th>\n",
       "      <td></td>\n",
       "      <td>111</td>\n",
       "    </tr>\n",
       "    <tr>\n",
       "      <th>1</th>\n",
       "      <td>\"</td>\n",
       "      <td>1011101010010</td>\n",
       "    </tr>\n",
       "    <tr>\n",
       "      <th>2</th>\n",
       "      <td>(</td>\n",
       "      <td>10010100100</td>\n",
       "    </tr>\n",
       "    <tr>\n",
       "      <th>3</th>\n",
       "      <td>)</td>\n",
       "      <td>01010000110</td>\n",
       "    </tr>\n",
       "    <tr>\n",
       "      <th>4</th>\n",
       "      <td>,</td>\n",
       "      <td>1011100</td>\n",
       "    </tr>\n",
       "    <tr>\n",
       "      <th>5</th>\n",
       "      <td>-</td>\n",
       "      <td>000001110</td>\n",
       "    </tr>\n",
       "    <tr>\n",
       "      <th>6</th>\n",
       "      <td>.</td>\n",
       "      <td>0001100</td>\n",
       "    </tr>\n",
       "    <tr>\n",
       "      <th>7</th>\n",
       "      <td>/</td>\n",
       "      <td>00000010110</td>\n",
       "    </tr>\n",
       "    <tr>\n",
       "      <th>8</th>\n",
       "      <td>0</td>\n",
       "      <td>01010010</td>\n",
       "    </tr>\n",
       "    <tr>\n",
       "      <th>9</th>\n",
       "      <td>1</td>\n",
       "      <td>01010011</td>\n",
       "    </tr>\n",
       "  </tbody>\n",
       "</table>\n",
       "</div>"
      ],
      "text/plain": [
       "  Characters       Encoding\n",
       "0                       111\n",
       "1          \"  1011101010010\n",
       "2          (    10010100100\n",
       "3          )    01010000110\n",
       "4          ,        1011100\n",
       "5          -      000001110\n",
       "6          .        0001100\n",
       "7          /    00000010110\n",
       "8          0       01010010\n",
       "9          1       01010011"
      ]
     },
     "metadata": {},
     "output_type": "display_data"
    }
   ],
   "source": [
    "#Joining the first dataframe with the second of encoding values sorted by charactes (because those are the values that those share)\n",
    "tabla2 = tabla.join(codification.set_index('Characters'), on='Characters', how=\"right\").sort_values(by=\"Characters\")\n",
    "#Just resting the index\n",
    "tabla3 = tabla2[[\"Characters\", \"Encoding\"]].reset_index(drop=True)\n",
    "#Confirminf if the whole values are equal, just as a comprobation. \n",
    "print(f\"We comprobed that the values from each dataframe are the same: {tabla3.equals(codification)}\")\n",
    "display(tabla3.head(10))"
   ]
  },
  {
   "cell_type": "code",
   "execution_count": 268,
   "metadata": {},
   "outputs": [
    {
     "data": {
      "text/html": [
       "<div>\n",
       "<style scoped>\n",
       "    .dataframe tbody tr th:only-of-type {\n",
       "        vertical-align: middle;\n",
       "    }\n",
       "\n",
       "    .dataframe tbody tr th {\n",
       "        vertical-align: top;\n",
       "    }\n",
       "\n",
       "    .dataframe thead th {\n",
       "        text-align: right;\n",
       "    }\n",
       "</style>\n",
       "<table border=\"1\" class=\"dataframe\">\n",
       "  <thead>\n",
       "    <tr style=\"text-align: right;\">\n",
       "      <th></th>\n",
       "      <th>Characters</th>\n",
       "      <th>Frecuency</th>\n",
       "      <th>Probability</th>\n",
       "      <th>Log2(p)</th>\n",
       "      <th>p*Log2(P)</th>\n",
       "      <th>Encoding</th>\n",
       "      <th>Lenght</th>\n",
       "      <th>Total_Lenght</th>\n",
       "    </tr>\n",
       "  </thead>\n",
       "  <tbody>\n",
       "    <tr>\n",
       "      <th>0</th>\n",
       "      <td>:</td>\n",
       "      <td>1</td>\n",
       "      <td>0.000148</td>\n",
       "      <td>-12.721954</td>\n",
       "      <td>-0.001883</td>\n",
       "      <td>1011101010011</td>\n",
       "      <td>13</td>\n",
       "      <td>13</td>\n",
       "    </tr>\n",
       "    <tr>\n",
       "      <th>1</th>\n",
       "      <td>\"</td>\n",
       "      <td>1</td>\n",
       "      <td>0.000148</td>\n",
       "      <td>-12.721954</td>\n",
       "      <td>-0.001883</td>\n",
       "      <td>1011101010010</td>\n",
       "      <td>13</td>\n",
       "      <td>13</td>\n",
       "    </tr>\n",
       "    <tr>\n",
       "      <th>2</th>\n",
       "      <td>H</td>\n",
       "      <td>1</td>\n",
       "      <td>0.000148</td>\n",
       "      <td>-12.721954</td>\n",
       "      <td>-0.001883</td>\n",
       "      <td>1011101010000</td>\n",
       "      <td>13</td>\n",
       "      <td>13</td>\n",
       "    </tr>\n",
       "    <tr>\n",
       "      <th>3</th>\n",
       "      <td>T</td>\n",
       "      <td>1</td>\n",
       "      <td>0.000148</td>\n",
       "      <td>-12.721954</td>\n",
       "      <td>-0.001883</td>\n",
       "      <td>1011101010001</td>\n",
       "      <td>13</td>\n",
       "      <td>13</td>\n",
       "    </tr>\n",
       "    <tr>\n",
       "      <th>4</th>\n",
       "      <td>w</td>\n",
       "      <td>2</td>\n",
       "      <td>0.000296</td>\n",
       "      <td>-11.721954</td>\n",
       "      <td>-0.003470</td>\n",
       "      <td>100101001011</td>\n",
       "      <td>12</td>\n",
       "      <td>24</td>\n",
       "    </tr>\n",
       "    <tr>\n",
       "      <th>...</th>\n",
       "      <td>...</td>\n",
       "      <td>...</td>\n",
       "      <td>...</td>\n",
       "      <td>...</td>\n",
       "      <td>...</td>\n",
       "      <td>...</td>\n",
       "      <td>...</td>\n",
       "      <td>...</td>\n",
       "    </tr>\n",
       "    <tr>\n",
       "      <th>70</th>\n",
       "      <td>r</td>\n",
       "      <td>398</td>\n",
       "      <td>0.058911</td>\n",
       "      <td>-4.085329</td>\n",
       "      <td>-0.240669</td>\n",
       "      <td>1000</td>\n",
       "      <td>4</td>\n",
       "      <td>1592</td>\n",
       "    </tr>\n",
       "    <tr>\n",
       "      <th>71</th>\n",
       "      <td>o</td>\n",
       "      <td>481</td>\n",
       "      <td>0.071196</td>\n",
       "      <td>-3.812061</td>\n",
       "      <td>-0.271403</td>\n",
       "      <td>1010</td>\n",
       "      <td>4</td>\n",
       "      <td>1924</td>\n",
       "    </tr>\n",
       "    <tr>\n",
       "      <th>72</th>\n",
       "      <td>a</td>\n",
       "      <td>578</td>\n",
       "      <td>0.085554</td>\n",
       "      <td>-3.547028</td>\n",
       "      <td>-0.303461</td>\n",
       "      <td>1101</td>\n",
       "      <td>4</td>\n",
       "      <td>2312</td>\n",
       "    </tr>\n",
       "    <tr>\n",
       "      <th>73</th>\n",
       "      <td>e</td>\n",
       "      <td>687</td>\n",
       "      <td>0.101687</td>\n",
       "      <td>-3.297787</td>\n",
       "      <td>-0.335343</td>\n",
       "      <td>001</td>\n",
       "      <td>3</td>\n",
       "      <td>2061</td>\n",
       "    </tr>\n",
       "    <tr>\n",
       "      <th>74</th>\n",
       "      <td></td>\n",
       "      <td>1126</td>\n",
       "      <td>0.166667</td>\n",
       "      <td>-2.584963</td>\n",
       "      <td>-0.430827</td>\n",
       "      <td>111</td>\n",
       "      <td>3</td>\n",
       "      <td>3378</td>\n",
       "    </tr>\n",
       "  </tbody>\n",
       "</table>\n",
       "<p>75 rows × 8 columns</p>\n",
       "</div>"
      ],
      "text/plain": [
       "   Characters  Frecuency  Probability    Log2(p)  p*Log2(P)       Encoding  \\\n",
       "0           :          1     0.000148 -12.721954  -0.001883  1011101010011   \n",
       "1           \"          1     0.000148 -12.721954  -0.001883  1011101010010   \n",
       "2           H          1     0.000148 -12.721954  -0.001883  1011101010000   \n",
       "3           T          1     0.000148 -12.721954  -0.001883  1011101010001   \n",
       "4           w          2     0.000296 -11.721954  -0.003470   100101001011   \n",
       "..        ...        ...          ...        ...        ...            ...   \n",
       "70          r        398     0.058911  -4.085329  -0.240669           1000   \n",
       "71          o        481     0.071196  -3.812061  -0.271403           1010   \n",
       "72          a        578     0.085554  -3.547028  -0.303461           1101   \n",
       "73          e        687     0.101687  -3.297787  -0.335343            001   \n",
       "74                  1126     0.166667  -2.584963  -0.430827            111   \n",
       "\n",
       "    Lenght  Total_Lenght  \n",
       "0       13            13  \n",
       "1       13            13  \n",
       "2       13            13  \n",
       "3       13            13  \n",
       "4       12            24  \n",
       "..     ...           ...  \n",
       "70       4          1592  \n",
       "71       4          1924  \n",
       "72       4          2312  \n",
       "73       3          2061  \n",
       "74       3          3378  \n",
       "\n",
       "[75 rows x 8 columns]"
      ]
     },
     "execution_count": 268,
     "metadata": {},
     "output_type": "execute_result"
    }
   ],
   "source": [
    "tabla2.reset_index(drop=True, inplace=True)\n",
    "tabla2.sort_values(by=\"Frecuency\", inplace=True)\n",
    "tabla2[\"Lenght\"] = tabla2[\"Encoding\"].str.len()\n",
    "tabla2[\"Total_Lenght\"] = tabla2[\"Lenght\"]*tabla2[\"Frecuency\"]\n",
    "tabla2.reset_index(drop=True, inplace=True)\n",
    "tabla2"
   ]
  },
  {
   "cell_type": "code",
   "execution_count": 269,
   "metadata": {},
   "outputs": [
    {
     "name": "stdout",
     "output_type": "stream",
     "text": [
      "Total encoding frequency: 30387\n"
     ]
    }
   ],
   "source": [
    "to_freq_encoding=sum(tabla2.Total_Lenght)\n",
    "print(f\"Total encoding frequency: {to_freq_encoding}\")"
   ]
  },
  {
   "cell_type": "markdown",
   "metadata": {},
   "source": [
    "### Compressing"
   ]
  },
  {
   "cell_type": "code",
   "execution_count": 270,
   "metadata": {},
   "outputs": [
    {
     "name": "stdout",
     "output_type": "stream",
     "text": [
      "{':': '1011101010011', '\"': '1011101010010', 'H': '1011101010000', 'T': '1011101010001', 'w': '100101001011', 'J': '100101001010', '/': '00000010110', '8': '01010000111', '”': '00000010111', ')': '01010000110', '(': '10010100100', ';': '0000001010', 'R': '10111010101', 'Y': '10010101010', 'V': '10010101011', 'W': '0001010111', 'P': '0101000001', 'D': '0101000010', '“': '0101000000', 'U': '0001010110', 'N': '1001001010', 'ú': '1001001001', '4': '1001001011', 'G': '1001001000', '5': '1001010100', 'B': '1001010011', 'I': '1011101011', '3': '000000100', '6': '000101010', 'k': '000001100', 'M': '000001111', 'S': '000001101', '-': '000001110', 'F': '010100010', 'L': '010100011', '7': '100101000', '9': '101110100', 'ñ': '100101011', 'C': '101110111', 'x': '101110110', 'é': '00000000', '2': '00000001', 'z': '00000011', 'á': '00010100', 'j': '00011101', 'A': '00011100', '1': '01010011', '0': '01010010', 'E': '10010011', 'q': '0000010', 'f': '0001011', '.': '0001100', 'h': '0001101', 'í': '0001111', 'y': '0101010', 'ó': '0101011', 'g': '1001000', ',': '1011100', 'b': '1001011', 'v': '000100', 'p': '101111', 'm': '00001', 'u': '01011', 'c': '10011', 't': '10110', 'd': '11000', 'l': '11001', 'i': '0100', 's': '0110', 'n': '0111', 'r': '1000', 'o': '1010', 'a': '1101', 'e': '001', ' ': '111'}\n"
     ]
    }
   ],
   "source": [
    "#Getting the Letter + its encoding value\n",
    "coding_dic=pd.Series(tabla2.Encoding.values,tabla2.Characters.values).to_dict()\n",
    "print(coding_dic)"
   ]
  },
  {
   "cell_type": "code",
   "execution_count": 271,
   "metadata": {},
   "outputs": [],
   "source": [
    "#Using other varible\n",
    "encoded_text=mytext\n",
    "\n",
    "for i in coding_dic:\n",
    "    #Replacing each character by its code.\n",
    "    encoded_text = encoded_text.replace(i, coding_dic[i])"
   ]
  },
  {
   "cell_type": "code",
   "execution_count": 272,
   "metadata": {},
   "outputs": [
    {
     "name": "stdout",
     "output_type": "stream",
     "text": [
      "1001001111001111010100101010100101010100100101001011010100100101001001010010101010010101010010010100101101010010010100100101001010101001010101001001010010110101001001010010010100101010100101010100100101001011110011011001000000110101110001000101100111001101011111000001110011110101001010101001010101001001010010110101001001010010101010010101010010010100101101010010101010010101010010010100101101010010101010010101010010010100101101010010010100101010100101010100100101001011010100101010100101010100100101001011010100101010100101010100100101001011101001111001110101000110000011001001111001111010100101010100101010100100101001011010100100101001010101001010101001001010010110101001010101001010101001001010010110101001010101001010101001001010010110101001001010010101010010101010010010100101101010010101010010101010010010100101101010010101010010101010010010100101110100111100111010100011000001101110011100111001111101111100001000000100110001111101000100010001010110111111011001011101111001100001100101011011101001001110101111011111101100011011111011010001101011101101011111010100010110001111110000011111011111101011011010101001001010010010100100101001010101001010101001001010010110101001010101001010101001001010010110101001010101001010101001001010010110101001001010010101010010101010010010100101100110001010011010111001110010110101100101100010010101111010101111001100011011011001000001001010111110000010110110000011110101001010101001010101001001010010110101001010101001010101001001010010110101001001010010101010010101010010010100101101010010101010010101010010010100101101010010101010010101010010010100101101010010010100101010100101010100100101001011010100100101001001010010101010010101010010010100101101010010010100100101001010101001010101001001010010110101001001010010101010010101010010010100101101010010010100100101001001010010010100100101001001010010101010010101010010010100101101010010010100101010100101010100100101001011010100100101001010101001010101001001010010110101001011100011011101011010110110111101010010010100100101001001010010010100100101001001010010010100101010100101010100100101001011010100100101001001010010010100100101001001010010010100100101001001010010101010010101010010010100101101010010010100100001100111010100100101001010101001010101001001010010110101001001010010101010010101010010010100101101010010010100100101001001010010010100101010100101010100100101001011010100100011001100011111101011111100000100101100111100111001111100110100001110011010111001100011011110011100111111001000111100001010010110001111110000011100111101100011000111000110101011000011101011110101011100111101111001100010101110010111111100110101111010111101101010111000101101011001111101111101001100100100101111001001111110000010000110100110101101000110100001101001101110000010010110011110111101011100110001101111110101100001111010100100101001001010010010100100101001001010010010100101010100101010100100101001011010100100101001010101001010101001001010010110101001011100000100101100111110111110101100000011111101000011010011011111001110010011001000110110001110000101011100110001101101011100001010100100101001001010010010100101010100101010100100101001011010100100101001010101001010101001001010010110101001001010010011011111001001010100100101001001010010010100101010100101010100100101001011010100101010100101010100100101001011010100101010100101010100100101001011010100100101001010101001010101001001010010111010011000011001110101001001010010101010010101010010010100101101010010010100101010100101010100100101001011010100100101001001010010010100100101001010101001010101001001010010110101001000101101100000111111001101001101111100001000110001010100101010100101010100100101001011010100100101001001010010101010010101010010010100101101010010010100101010100101010100100101001011010100100101001010101001010101001001010010110101001010101001010101001001010010111010011011101111101100110100110001010011011111000001111110011101111100101110000100110011100111010111101100011110000100101111011000111111000001111010100100101001010101001010101001001010010110101001001010010101010010101010010010100101101010010010100100101001001010010101010010101010010010100101101010010101010010101010010010100101100110100111110110001100010101111100011011110101001010101001010101001001010010110101001001010010010100101010100101010100100101001011010100100101001010101001010101001001010010110101001001010010101010010101010010010100101101010010010100101010100101010100100101001011010100101010100101010100100101001011010001111001101001110001101110101101011011011110011100111110111110000100000010011000111010100100101001001010010010100100101001001010010010100100101001001010010101010010101010010010100101101010010010100101010100101010100100101001011010100101010100101010100100101001011010100101010100101010100100101001011010100100101001010101001010101001001010010110101001010101001010101001001010010110101001001001011010101111100000111111001101001101110001101001100000001110101111010011011101010010010100100101001001010010101010010101010010010100101101010010010100101010100101010100100101001011010100100101001010101001010101001001010010110101001010101001010101001001010010110101001010101001010101001001010010111000010010010000001101101101011100111110011101111000110101000110101101010100001001101111110000011111100111011111101000100010011011001101000101011011111110000010110010111100110110110111110110110101111110001011110101101001101000111110101111011000111110011101000001101011101000111101100010111011011011110101010111000110111011110000111011000100111101110001010111110111001100100001011011110100110111110000011111100110100110111000011010000010010111101101010011011110011110011101000100001111101111110110001101111110011101111000110101011000011101011101001100011011100000011001111001001101111011010000011110011100111001101001101110000010010110011000001000011010011011111000001011010110110110011110110001110011100111111010001000100010101101111110110010111011110011000011001010110111010010011101011101010010101010010101010010010100101101010010010100101010100101010100100101001011010100101010100101010100100101001011010100101010100101010100100101001011010100100101001010101001010101001001010010110101001010101001010101001001010010110101001010101001010101001001010010111010011110011101010001100000110111001110101101111110010101001001010010010100100101001010101001010101001001010010110101001010101001010101001001010010110101001010101001010101001001010010110101001001010010101010010101010010010100101100100001101111110011010111110000011111100111010110111110101110110010011010110111110000011100111101100011000111000110101011000011101011110101111011111010100011101001000111000010101001001010010010100100101001010101001010101001001010010110101001001010010101010010101010010010100101101010010010100100110111110010010101001001010010010100100101001010101001010101001001010010110101001010101001010101001001010010110101001010101001010101001001010010110101001001010010101010010101010010010100101110100110000110011110010011110011111011111000101001010100011001110110101011101111101100110100010101111100101111111100111011111100001010010010100100101001001010010010100100101001001010010010100101001111011100011011111100000111101010010101010010101010010010100101101010010101010010101010010010100101101010010010100101010100101010100100101001011010100101010100101010100100101001011010100101010100101010100100101001011010100100101001010101001010101001001010010110101001001010010010100101010100101010100100101001011010100100101001001010010101010010101010010010100101101010010010100101010100101010100100101001011010100100101001010101001010101001001010010110101001001010010010100101011100111001011111110111111001001011111011110101001010101001010101001001010010110101001001010010010100101010100101010100100101001011010100100101001001010010101010010101010010010100101101010010010100100101001001011001100010001101111010100100101001010101001010101001001010010110101001001010010101010010101010010010100101101010010010100100101001001010010101010010101010010010100101101010010100000011111101000110011110010011011010110110111000101001101110101001001010010010100100101001010101001010101001001010010110101001001010010101010010101010010010100101101010010010100101010100101010100100101001011010100101010100101010100100101001011010100100111010011000101001101011100111010100101010100101010100100101001011010100100101001001010010101010010101010010010100101101010010010100100101001010101001010101001001010010110101001001010010010100101000110101111110101001010101001010101001001010010110101001001010010010100101010100101010100100101001011010100100101001010101001010101001001010010110101001001010010010100101010100101010100100101001011010100101010100101010100100101001011100000110110110101010010101010010101010010010100101101010010010100100101001010101001010101001001010010110101001001010010101010010101010010010100101101010010010100101010100101010100100101001011010100101010100101010100100101001011110110111001110101001001010010101010010101010010010100101101010010010100101010100101010100100101001011010100100101001001010010010100101010100101010100100101001011010100101000110101111001101001101111010101011111001110111101010010010100100101001001010010101010010101010010010100101101010010010100101010100101010100100101001011010100100101001010101001010101001001010010110101001010101001010101001001010010110101001001110100010101101111110101001001010010010100100101001001010010010100101010100101010100100101001011010100101010100101010100100101001011010100100101001010101001010101001001010010111010000100010001010010010100100101001001010010010100100101001001010010010100101011001001001111011111001110100000100101110101001001010010010100100101001001010010010100100101001010101001010101001001010010110101001010101001010101001001010010111101100010100111111110111110111111001110101111011000111011000011000111111001110111110111110100110010010010110100110010100110001101110001111100000111110011100000111011000111010110111111110100010001000101011011111110011101000001001100010011010011011100111100000100101100111100010110101100110001101111100111101101111110101010010010100100101001001010010010100100101001001010010101010010101010010010100101101010010101010010101010010010100101111111000001111110111001100111101011101010010010100100101001001010010010100100101001001010010101010010101010010010100101101010010101010010101010010010100101111011000111000100001110011010100110100110001101110000010110111011001011101111001100001100101011011101001001111010110111010100101010100101010100100101001011010100100101001001010010101010010101010010010100101101010010010100101010100101010100100101001011010100100101001001010010101010010101010010010100101101010010010100101011111010100011100101111001101000000111011111100000111111001101001101110101001010101001010101001001010010110101001001010010010100100101001001010010010100100101001001010010101010010101010010010100101101010010010100100101001001010010010100100101001001010010101010010101010010010100101101010010010100100101001010101001010101001001010010110101001001010010010100101010100101010100100101001011010100100101001001010010101010010101010010010100101101010010010100101010100101010100100101001011010100101010100101010100100101001011000110001010010010100101010100101010100100101001011010100100101001010101001010101001001010010110101001001010010010100100101001001010010101010010101010010010100101101010010101010010101010010010100101101010010101010010101010010010100101101010010010100100101001001010010010100100101001010101001010101001001010010110101001010101001010101001001010010110101001001010010000010101001001010010010100100101001001010010010100100101001010101001010101001001010010110101001001010010101010010101010010010100101101010010101010010101010010010100101101010010000110101010010010100101010100101010100100101001011010100100101001010101001010101001001010010110101001001010010010100100101001001010010101010010101010010010100101101010010101010010101010010010100101101010010000110011101010010010100100101001001010010101010010101010010010100101101010010101010010101010010010100101101010010101010010101010010010100101101010010010100100101101110000010010110011111100111011110100110000011101111100010100111110001101100101111011111011111010100011100111001111110100001100101101000010111101100011011100111011010101100110101110101001001010010101010010101010010010100101101010010010100101010100101010100100101001011010100100101001001010010010100101010100101010100100101001011010100101000110101111001101001101111010101011101010010101010010101010010010100101101010010010100100101001010101001010101001001010010110101001001010010010100101010100101010100100101001011010100100101001001010010100011010111111010100101010100101010100100101001011010100100101001001010010101010010101010010010100101101010010010100101010100101010100100101001011010100100101001001010010101010010101010010010100101101010010101010010101010010010100101110000011011011010101001010101001010101001001010010110101001001010010010100101010100101010100100101001011010100100101001010101001010101001001010010110101001001010010101010010101010010010100101101010010101010010101010010010100101111011111100111011111101000101110001010011110110110110001010011111101100011000010011010000100101111011000111101010101111001110100000100101110101001001010010010100100101001001010010010100100101001010101001010101001001010010110101001010101001010101001001010010111101100010100111111110111111000010001100010101001010101001010101001001010010110101001001010010010100101010100101010100100101001011010100100101001010101001010101001001010010110101001001010010101010010101010010010100101101010010101010010101010010010100101111011000111101111100010100101010001100111011010100110111010001111100000110111100101111100001000010111101100010110111000101101000111110101111001101001101110001010011010111001110010111111100100010001101011111110111111011000101100011011100111101111101010001110110010110110111100100010101001011010000110000111101001100001100111010100100101001010101001010101001001010010110101001001010010101010010101010010010100101101010010010100100101001001010010010100101010100101010100100101001011010100100100001010100100101001001010010010100100101001001010010010100101010100101010100100101001011010100101010100101010100100101001011111110101010010101010010101010010010100101101010010010100100101001010101001010101001001010010110101001001010010101010010101010010010100101101010010010100101010100101010100100101001011010100101010100101010100100101001011101001101111100000101101011110101101010010010100100101001001010010010100100101001001010010010100100110101110011100101111110101001010101001010101001001010010110101001010101001010101001001010010110101001001010010101010010101010010010100101101010010101010010101010010010100101101010010101010010101010010010100101101010010010100101010100101010100100101001011010100100101001001010010010100100101001001010010101010010101010010010100101101010010010100101010100101010100100101001011010100100101001010101001010101001001010010110101001001010010101110011101010010101010010101010010010100101101010010010100100101001010101001010101001001010010110101001001010010010100101010100101010100100101001011010100100101001001010010100011010111111010100101010100101010100100101001011010100100101001001010010101010010101010010010100101101010010010100101010100101010100100101001011010100100101001001010010101010010101010010010100101101010010101010010101010010010100101110000011011011010101001010101001010101001001010010110101001001010010010100101010100101010100100101001011010100100101001010101001010101001001010010110101001001010010101010010101010010010100101101010010101010010101010010010100101111011111011000101110001111110111101011011111111000010001100010101001010101001010101001001010010110101001001010010010100101010100101010100100101001011010100100101001010101001010101001001010010110101001001010010101010010101010010010100101101010010101010010101010010010100101110101111100101000110101101010111101111110110001101111011001011111100111010011101101011010000101110011100110100010101101111011100111101111001100010101111100110100110111001011110101000000010010110111100111010011010110001011011100000100101100111101100101110111110100111110001000000111111011111010100101111001010010010001101100010100111111110111001111101111110100011110110111110111111001110010011001000110110001111101111010110111111110110011010110011000110001010111110000011111001110101100111011001011101010001101100110100010101101111111001110100111111010100100101001010101001010101001001010010110101001001010010101010010101010010010100101101010010010100100101001001010010101010010101010010010100101101010010100011010111100110100110100011001111001001111001111011110100000110010111000001111110000011110101001010101001010101001001010010110101001001010010101010010101010010010100101101010010101010010101010010010100101101010010101010010101010010010100101101010010010100101010100101010100100101001011010100101010100101010100100101001011010100101010100101010100100101001011101001111001110101000110000011110101001010101001010101001001010010110101001001010010010100101010100101010100100101001011010100100101001010101001010101001001010010110101001001010010010100101010100101010100100101001011010100100101001010011101001111001110101000110000100110101010010010100101010100101010100100101001011010100100101001010101001010101001001010010110101001001010010010100100101001001010010101010010101010010010100101101010010101010010101010010010100101101010010111000110111011001100111110000010001011001100000101111001101001101111101111100000110011010001101101000010010111101100011111101111001011010110001111101101000110110010111101010100100101001001010010010100101010100101010100100101001011010100101010100101010100100101001011010100101010100101010100100101001011010100100101001010101001010101001001010010111010111100111010011101010010010100100101001001010010101010010101010010010100101101010010101010010101010010010100101101010010101010010101010010010100101101010010010100101010100101010100100101001011010110111101101010111000001001011001111110100001100101110100110111101111110100011110110001011011111001110010010001001101100010100111111110111110011110110010111010000110011110010011110011111011111000010000001001100011100010001011001110011010111101100101100010010101111100101011100100011011000111001011111100001110110000101001001010010010100100101001001010010010100100101001010101001010101001001010010110101001010101001010101001001010010111010111110000011110101001010101001010101001001010010110101001010101001010101001001010010110101001001010010101010010101010010010100101101010010101010010101010010010100101101010010101010010101010010010100101101010010010100101010100101010100100101001011010100100101001001010010010100100101001001010010101010010101010010010100101101010010010100101010100101010100100101001011010100100101001010101001010101001001010010110101001001010010101010010101010010010100101101010010010100101010100101010100100101001011010100101010100101010100100101001011010100101010100101010100100101001011010100100101001010101001010101001001010010110101001001010010111010101011101100011110100011110110100010101100001011010100100101001001010010010100101010100101010100100101001011010100101010100101010100100101001011010100101010100101010100100101001011010100100101001010101001010101001001010010111010111001011111111001110101101111101001100010101100100011110111001110101101111100000111100010111010100000001110111110000011001000010111100111011000111110111110111111011000101100100100011111000001110011110101001001010010010100100101001001010010010100100101001001010010101010010101010010010100101101010010101010010101010010010100101111111000001111001011100110001010111110000011110101001010101001010101001001010010110101001010101001010101001001010010110101001001010010101010010101010010010100101101010010101010010101010010010100101101010010101010010101010010010100101101010010010100101010100101010100100101001011010100100101001001010010101010010101010010010100101101010010010100100101001010101001010101001001010010110101001001010010101010010101010010010100101101010010010100100101001001010010010100100101001001010010101010010101010010010100101101010010010100101010100101010100100101001011010100100101001010101001010101001001010010110101001000011001110101001010101001010101001001010010110101001001010010010100101010100101010100100101001011010100100101001010101001010101001001010010110101001001010010010100101010100101010100100101001011010100101010100101010100100101001011100001001011001000110000110111101010010010100100101001001010010101010010101010010010100101101010010101010010101010010010100101101010010101010010101010010010100101101010010010100100100100011001010001110010110111010101011101010010010100100101001001010010101010010101010010010100101101010010101010010101010010010100101101010010101010010101010010010100101101010010010100100100100011101010010010100101010100101010100100101001011010100100101001010101001010101001001010010110101001001010010010100100101001010101001010101001001010010110101001010001101011110011001111000101101011001100010100111111110011101011011111000101001101111001110100000110111111010101001010101001010101001001010010110101001001010010010100101010100101010100100101001011010100100101001010101001010101001001010010110101001001010010101010010101010010010100101101010010101010010101010010010100101100011111101011011110111110001010101111010000110110110110000100110101101111100000111100101101011000111110110010010111110101111100000111111010001000100101001110010110101110011111010101101110000010010110011111101110010000010010110100110011101100010100111111110111001100100001011011110100110111110111101010010101010010101010010010100101101010010010100100101001010101001010101001001010010110101001001010010101010010101010010010100101101010010010100100101001010101001010101001001010010110101001010101001010101001001010010111000110101110100000101100010111110101001010101001010101001001010010110101001001010010101010010101010010010100101101010010101010010101010010010100101101010010101010010101010010010100101101010010010100101010100101010100100101001011010100100101001010101001010101001001010010110101001010101001010101001001010010110111101100011000011111011011001001010011111011100111101010010010100100101001001010010101010010101010010010100101101010010101010010101010010010100101101010010101010010101010010010100101101010010010100100100100001010010101010010101010010010100101101010010010100100101001010101001010101001001010010110101001001010010101010010101010010010100101101010010010100100101001010101001010101001001010010110101001001010010101010010101010010010100101101010010101010010101010010010100101111010101010011011101010101110101001001010010010100100101001001010010010100101010100101010100100101001011010100101010100101010100100101001011010100100101001010101001010101001001010010110100011110010001101101111101010000011110101001001010010010100100101001010101001010101001001010010110101001010101001010101001001010010110101001010101001010101001001010010110101001001010010010010001100101000111001011000011001110101001001010010101010010101010010010100101101010010010100101010100101010100100101001011010100100101001001010010010100101010100101010100100101001011010100101010100101010100100101001011101001101110001000101100111001101001101111011111010110000001111110101111111000001100111010100010000011000111110011101111110000100011010110110101111001101001101111001011110110100000111101010010010100101010100101010100100101001011010100100101001010101001010101001001010010110101001001010010010100100101001010101001010101001001010010110101001010101001010101001001010010111010011111000100000101101110101010111010100101010100101010100100101001011010100100101001001010010101010010101010010010100101101010010010100100101001010101001010101001001010010110101001001010010101010010101010010010100101101010010010110010001001101111010100101010100101010100100101001011010100100101001001010010101010010101010010010100101101010010010100101010100101010100100101001011010100100101001010101001010101001001010010110101001001010010101010010101010010010100101101010010101010000101001001010010010100100101001001010010010100101010100101010100100101001011010100101010100101010100100101001011010100100101001011100101111111011111010100111010111000010101001001010010010100100101001010101001010101001001010010110101001001010010101010010101010010010100101101010010010100100110111110000011110101001001010010010100100101001001010010010100100101001010101001010101001001010010110101001001010010111000110110101000110101101110101010111101111101011000000111111010111111110111001100111101011101010010010100100101001001010010010100100101001001010010101010010101010010010100101101010010101010010101010010010100101111011000111010110111110111100010000111001101010011010011000110111000111000010101001001010010010100100101001010101001010101001001010010110101001001010010101010010101010010010100101101010010010100100101001010101001010101001001010010110101001001010010101010010101010010010100101101010010101010010101010010010100101101010010101010010101010010010100101101010010010100101010100101010100100101001011010100101010100101010100100101001011010100100100000011101111110000011110101001001010010010100100101001001010010010100100101001001010010101010010101010010010100101100011000101001010101001010101001001010010110101001010101001010101001001010010110101001001010010010100101010100101010100100101001011010100100101001010101001010101001001010010110101001001010010010100100101001010101001010101001001010010110101001001010010101010010101010010010100101101010010101010010101010010010100101101010010101010010101010010010100101101010010010100101010100101010100100101001011010100100101001001010010010100100101001001010010010100100101001010101001010101001001010010110101001010101001010101001001010010110101001001010010000010101001001010010010100100101001001010010010100100101001010101001010101001001010010110101001001010010101010010101010010010100101101010010101010010101010010010100101101010010000110100011001110101001010101001010101001001010010110101001001010010101010010101010010010100101101010010101010010101010010010100101101010010101010010101010010010100101101010010010100101010100101010100100101001011010100100101001010101001010101001001010010110101001001010010101010010101010010010100101100111011100101000101001001010010010100100101001001010010010100100101001010101001010101001001010010110101001010101001010101001001010010110101011111101111100001000111100110100101111110111001000010010111101100011111101111110011010011011111010011000101010111101011001100010110101001101111100000111101010010010100101010100101010100100101001011010100100101001010101001010101001001010010110101001001010010010100100101001001010010010100101010100101010100100101001011110110000001111011010111001110101001001010010101010010101010010010100101101010010010100101010100101010100100101001011010100100101001001010010010100101010100101010100100101001011010100101010100101010100100101001011101001111100010000010110101110011101010010101010010101010010010100101101010010010100100101001010101001010101001001010010110101001001010010010100101010100101010100100101001011010100100101001010101001010101001001010010110101001001011001000100110111101010010101010010101010010010100101101010010010100100101001010101001010101001001010010110101001001010010101010010101010010010100101101010010010100101010100101010100100101001011010100100101001010101001010101001001010010110101001010101000010100100101001001010010010100100101001001010010101010010101010010010100101101010010101010010101010010010100101101010010010100101110101010111010100100101001001010010010100101010100101010100100101001011010100100101001010101001010101001001010010110101001001010010101010010101010010010100101101010010101010010101010010010100101101010010101010010101010010010100101111010110000110101000111100100010110101001111110101010111001011110110100000111111001101001101110101001001010010010100100101001001010010010100100101001001010010101010010101010010010100101100011000101001010101001010101001001010010110101001001010010010100101010100101010100100101001011010100100101001010101001010101001001010010110101001001010010101010010101010010010100101101010010010100101110000101001100111001101001110010110111110000011111011111101011011010101001001010010010100100101001010101001010101001001010010110101001010101001010101001001010010110101001010101001010101001001010010110101001001010010101010010101010010010100101100110001010011011100000100101100111110110100011010110110011101110000101011111001011111111001101001101110101001001010010010100100101001001010010010100100101001001010010101010010101010010010100101101010010101010010101010010010100101101010010010100100101001010101001010101001001010010110101001001010010101010010101010010010100101101010010010100100101001011111010101001010101001010101001001010010110101001001010010010100101010100101010100100101001011010100100101001010101001010101001001010010110101001001010010101010010101010010010100101101010010101010010101010010010100101110100110111001011111100000100101100111100101101011001011000100101011111011001110110010000010010101110110001111110000010110101101101100111101011111101010010010100100101001001010010010100100101001010101001010101001001010010110101001010101001010101001001010010110101001010101001010101001001010010110101001010101001010101001001010010110100100110101001001010010010100100101001001010010010100101010100101010100100101001011010100101010100101010100100101001011010100100101001011101010010101010010101010010010100101101010010010100100101001010101001010101001001010010110101001001010010101010010101010010010100101101010010010100100101001010101001010101001001010010110101001001010010101010010101010010010100101101010010110110010001001000001100010111001110101001001010010010100100101001001010010010100101010100101010100100101001011010100101010100101010100100101001011010100100101001010101001010101001001010010110011101011111101010010101010010101010010010100101101010010010100101010100101010100100101001011010100101010100101010100100101001011010100101010100101010100100101001011010100100101001010101001010101001001010010110101001010101001010101001001010010110101001010101001010101001001010010111010011101110011000010101010111001111001001111001010001010010010100100101001001010010010100100101001001010010101010010101010010010100101101010010101010010101010010010100101111011001011001101100001101111010100101010100101010100100101001011010100100101001010101001010101001001010010110101001010101001010101001001010010110101001010101001010101001001010010110101001001010010101010010101010010010100101101010010010100101010100101010100100101001011010100100101001001010010010100101010100101010100100101001011110101010101100110101000111101011111001110111110000010100011111011110101001010101001010101001001010010110101001001010010101010010101010010010100101101010010101010010101010010010100101101010010101010010101010010010100101101010010010100101010100101010100100101001011010100100101001010101001010101001001010010110101001010101001010101001001010010110110110110010110011100111101010010101010010101010010010100101101010010010100101010100101010100100101001011010100101010100101010100100101001011010100101010100101010100100101001011010100100101001010101001010101001001010010110101001001010010101010010101010010010100101101010010101010010101010010010100101101010010101010010101010010010100101101010010010100101010100101010100100101001011010100101010100101010100100101001011010100101010100101010100100101001011010100100101001010101001010101001001010010110101001001010010101010010101010010010100101101010010101010010101010010010100101111111000001111010100101010100101010100100101001011010100100101001010101001010101001001010010110101001010101001010101001001010010110101001010101001010101001001010010110101001001010010101010010101010010010100101101010010010100101010100101010100100101001011010100101010100101010100100101001011011110010001100111011011000110001000110100011001110101001001010010010100100101001010101001010101001001010010110101001010101001010101001001010010110101001010101001010101001001010010110101001001010010010110111000001001011001111001110011110101001010101001010101001001010010110101001001010010101010010101010010010100101101010010101010010101010010010100101101010010101010010101010010010100101101010010010100101010100101010100100101001011010100101010100101010100100101001011010100101010100101010100100101001011101001111001110101000110000011110110010111011111010011100011111101111010110111111010000001101111100000101100100101001111101011110110001111110100010011010111100110011111011000110011011110101100101010111001000010010011101011101010101110101101111101111101010010111000110111111000001111010001111001000001011101000011000000111111011111100001001001000011111011111100000111111011100000001010010001101100110100010101101111011100111110011101011011110011101001101101011011101111010111011011011100101000011000101001111111001110100000110101110110001111001011010111100110001101100101111010001100111100100111100111100001110101111011000101110100000010100001011110110101011111000001111110011101111110100110001010011111010001000011110011000110111100001010110101010111110111001101101010111010101011100111001111100111010011101100101100001101011111000001111100111010000011001011010110110101100100100101111001001111000010101110011000110110101110000111010101010101010001111100000111001111110000011111010101101000101001101111101000100010010100111001011010111001111100110101110000010010110011110001101010001010010010100100101001001010010010100100101001001010010101010010101010010010100101101010010101010010101010010010100101110101110000010010110011111100110100110111101111100000110011010010100110111110000011111100110100110111100101101001100111001001101100010110111110011100100110010001101100011010111111110111111011100110011110101110101001001010010010100100101001001010010010100100101001010101001010101001001010010110101001010101001010101001001010010111101100011110111110000011001101001010011011100101010010101010010101010010010100101101010010010100101010100101010100100101001011010100101010100101010100100101001011010100101010100101010100100101001011010100100101001010101001010101001001010010110101001010101001010101001001010010110101001010101000100101101001011011011100010100110111110000011110001101110101101011011011110101001010101001010101001001010010110101001000011000101001001010010010100101111100001010111100111011000001011000011001110101001001010010010100100101001010101001010101001001010010110101001010101001010101001001010010110101001010101001010101001001010010110101001001010010110000010000101010010010100100101001001010010101010010101010010010100101101010010010100101010100101010100100101001011010100100101001001101011100111001011111101010010010100100101001001010010101010010101010010010100101101010010101010010101010010010100101101010010101010010101010010010100101101010010010100101010100101010100100101001011010111100101001010111110000011100111101010010010100100101001001010010010100100101001001010010010100101010100101010100100101001011010100100101001001010010101110011100111001111000100010110011100110101110101001010101001010101001001010010110101001001010010010100101010100101010100100101001011010100100101001001010010101010010101010010010100101101010010010100101010100101010100100101001011010100101010100101010100100101001011010100101010100101010100100101001011010100100101001001010010101010010101010010010100101101010010010100101010100101010100100101001011010100100101001010101001010101001001010010110101001001010010010100101010100101010100100101001011010100100101001010101001010101001001010010110101001010101001010101001001010010110101001010101001010101001001010010110101001001010010101010010101010010010100101101010010010100100101001011111000001111010100100101001001010010010100101010100101010100100101001011010100101010100101010100100101001011010100101010100101010100100101001011010100100101001001001000111010100100101001010101001010101001001010010110101001001010010101010010101010010010100101101010010010100100101001001010010101010010101010010010100101101010010100011010111100110011110110010110001011100001000101011111010110111111110110011100110100110000010111101100011111100001011100011010111101100011110011100111100010001011001110011010111010101011101100011110010110101101000001110011100101010111110010111111110011101111100110100010111100011011100011100010111000110101111001100101101101111110000011110101001010101001010101001001010010110101001001010010010100101010100101010100100101001011010100100101001001010010101010010101010010010100101101010010010100100101001010100111001011001100010001100111010100101010100101010100100101001011010100100101001010101001010101001001010010110101001010101001010101001001010010110101001010101001010101001001010010110101001001010010101010010101010010010100101101010010010100101010100101010100100101001011010100100101001001010010010100100101110010111010111000010101001001010010010100100101001010101001010101001001010010110101001001010010101010010101010010010100101101010010010100100110111110000011110101001010101001010101001001010010110101001001010010111000010101100110001011010100110111001011110110100000111111001101001101111011111101011011010101001001010010010100100101001010101001010101001001010010110101001010101001010101001001010010110101001010101001010101001001010010110101001001010010101010010101010010010100101100110001010011010111001111100111011111011010000100101111010111100111011001101000101011011111101010101110011100111110111100110000110101001111101110011110010111111101100100001100010001101000110010010011011010110001111010001111001101001100000101111011000110111001111100110100110111100111010011010110001011011111000001111000011101011110110001011101000000101000010111101101010111010101011111001110111110011110100011111100011011110010111111110011101111110000010000111010111110001101111110000011110001000101100111001101001101111011010001101011011111001101001101111101101100010111101101101110001010011011111000001110011110101001010101001010101001001010010110101001010101001010101001001010010110101001001010010010100100101001001010010010100101010100101010100100101001011010100101010100101010100100101001011010100101010100101010100100101001011010100100101001001010010010100100101001001010010010100101010100101010100100101001011010100101010100101010100100101001011010100100101001010101001010101001001010010110011011111011001000010000110010111000001111000110101001001101000011000101001111110000010010110011110101001001010010010100100101001010101001010101001001010010110101001010101001010101001001010010110101001010101001010101001001010010110101001001010010010010001110101001001010010101010010101010010010100101101010010010100101010100101010100100101001011010100100101001001010010010100101010100101010100100101001011010100101000110101111001100111101010101110101001010101001010101001001010010110101001001010010010100101010100101010100100101001011010100100101001010101001010101001001010010110101001001010010010100101010100101010100100101001011010100101010100101010100100101001011100001001011001000110000110111101010010010100100101001001010010101010010101010010010100101101010010101010010101010010010100101101010010101010010101010010010100101101010010010100100100100011001010001110010110111110000011001101001100001000011000101001111111011111010011100110001110001011010001111111101111110011010011011101010010010100100101001001010010010100100101001001010010010100101010100101010100100101001011010100101010100101010100100101001011010100100101001001010010101010010101010010010100101101010010010100101010100101010100100101001011010100100101001001010010111110101010010101010010101010010010100101101010010010100100101001010101001010101001001010010110101001001010010101010010101010010010100101101010010010100101010100101010100100101001011010100101010100101010100100101001011101001101111100000111101100011000000100010010011010010101110101010111100000110110010010001101100011111001101001101111101000100010010100111001011011101010010101010010101010010010100101101010010010100101010100101010100100101001011010100101010100101010100100101001011010100101010100101010100100101001011010100100101001010101001010101001001010010110101001010101001010101001001010010110101001010101001010101001001010010111010011110011101010001100000100011001110101001001010010010100100101001001010010010100101010100101010100100101001011010100101010100101010100100101001011010100100101001010101001010101001001010010110101111101010010101010010101010010010100101101010010010100100101001010101001010101001001010010110101001001010010010100101010100101010100100101001011010100100101001001010010101010010101010010010100101111001101100100000011010111000100010110011100110101110110001111101111100010101100001011010100100101001001010010010100101010100101010100100101001011010100101010100101010100100101001011010100101010100101010100100101001011010100100101001010101001010101001001010010111010111001110011110101001001010010010100100101001001010010010100100101001001010010101010010101010010010100101101010010010100100101001001010010101010010101010010010100101101010010010100101010100101010100100101001011010100100101001010101001010101001001010010110101001011111000001111011110100001000100001000011001011100000111111000001110011110101001001010010010100100101001001010010010100100101001001010010101010010101010010010100101101010010010100100101001001010010010100100101001001010010010100100101001010101001010101001001010010110101001001010010000110011101010010010100101010100101010100100101001011010100100101001010101001010101001001010010110101001001010010010100100101001010101001010101001001010010110101001010101001010101001001010010111010011011101010010101010010101010010010100101101010010010100100101001001010010101010010101010010010100101101010010010100101010100101010100100101001011010100100101001010101001010101001001010010110101001011100001101011000001110011010011011100000100101100111100010110101100110001010011111100100001101111110010011101110001010011011110111111011000110111100010001011001110011010011011110011101000001001100010011010011011100100101101110101010111110001010011011111000001111110011010011011110111110001010101101010101100100101111101001101110010110101100101001001010010010100100101001010101001010101001001010010110101001001010010101010010101010010010100101101010010010100100111111100100001011110110001100011011100010100110111001011111111000010001101011001000111101101010011011100001010110110001101001101111100000111001111000010101101111100010101111001110100000110101111000001100110101100110001100010101111100000111001111000110101001011010101110000010010110011110110010111011110101101101010111001110011110101001010101001010101001001010010110101001001010010101010010101010010010100101101010010101010010101010010010100101101010010101010010101010010010100101101010010010100101010100101010100100101001011010100101010100101010100100101001011010100101010100101010100100101001011101001111001110101000110000010001100100100111100111111010001000100010101101111110110010111011110011000011001010110111010010011101011100000100101100111100010000101110001111110111111011110101001001010010010100100101001001010010010100101010100101010100100101001011010100101010100101010100100101001011010100101010100101010100100101001011010100101010100101010100100101001011010100100101001001010010010100100101001001010010010100100101001001010010101010010101010010010100101101010010010100101010100101010100100101001011010100101010100101010100100101001011010100101010100101010100100101001011010100100101001010101001010101001001010010110101001010101001010101001001010010110101001001001001110101001001101101011011011111101001100010100111110100010000111111000001111101100011001101111010110011010100100000011111101111100101110000100101100101001001010010010100100101001010101001010101001001010010110101001001010010101010010101010010010100101101010010010100100111010010011101001010010010100100101001001010010010100100101001010101001010101001001010010110101001010101001010101001001010010110101001010101001010101001001010010110101001000010111000110101111001100101101101111110011010100100010000101011111000101111010000111011110000101011011111000010011011100111110111110101000111110110011101010001011011011000111110111111001110100001010010110110111000111100001011101101101011011101000111101100011000011111011001101001010011111011100100101100001100111010100101010100101010100100101001011010100100101001001010010101010010101010010010100101101010010010100101010100101010100100101001011010100100101001010101001010101001001010010110101001001010010101010010101010010010100101101010010101010010101010010010100101101000110010010110010101111101010010010100100101001001010010010100100101001010101001010101001001010010110101001010101001010101001001010010110101001010101001010101001001010010110101001010101001010101001001010010110101001001010010010100100101001001010010010100100101001001010010010100101010100101010100100101001011010100100101001010101001010101001001010010110101001010101001010101001001010010110101001010101001010101001001010010110101001001010010101010010101010010010100101101010010101010010101010010010100101101010010010010011101011110111110101000111101101101011111101101010110011010111100110101111011011010001010111110101010010101010010101010010010100101101010010010100100101001010101001010101001001010010110101001001010010101010010101010010010100101101010010010100101010100101010100100101001011010100101010100101010100100101001011101001101011100111101111001100010101110110010111111100111001001100100011011100011010110010000100001101111100000111100110001101111001011010111100110011101101101100110101111001110110001011100111001110011110110101001110100110001010111110000011110110010110110111101111101010110001011110110001011011100001101010110101010000010110111110011010111000110111011001100011111101111010100101010100101010100100101001011010100100101001001010010101010010101010010010100101101010010010100100101001010101001010101001001010010110101001001010010010100101010100101010100100101001011011101001001110101110101001001010010010100100101001010101001010101001001010010110101001001010010101010010101010010010100101101010010010100101010100101010100100101001011010100101010100101010100100101001011010100100111111011001011100110010110101011100000100101100111110011101000001101111110110001011000111101010010010100100101001001010010010100100101001010101001010101001001010010110101001010101001010101001001010010110101001010101001010101001001010010110101001010101001010101001001010010110101001001010010010100100101001001010010010100100101001001010010010100101010100101010100100101001011010100100101001010101001010101001001010010110101001010101001010101001001010010110101001010101001010101001001010010110101001001010010101010010101010010010100101101010010101010010101010010010100101101010010010010011101011110011101001111110001001101100001001010011011110111111010001111011000101101111100000111001111000010101101111100010101110010110111100110101111010111110001010111001110011110101001010101001010101001001010010110101001001010010101010010101010010010100101101010010101010010101010010010100101101010010101010010101010010010100101101010010010100101010100101010100100101001011010100101010100101010100100101001011010100101010100101010100100101001011101001111001110101000110000011110001001010110011101100101111011110110101010010111000001111011001011111101100011000100001001011010101000010010100101001001010010010100100101001001010010010100100101001010101001010101001001010010110101001001010010101010010101010010010100101101010010111001110011111101000100010001010110111111110000011110000111010111010110001011110110011101100101110001101111000101110001101011110011101001010010010100100101001001010010010100100101001010101001010101001001010010110101001010101001010101001001010010110101001010101001010101001001010010110101001010010111000010010110010100100101001001010010010100101010100101010100100101001011010100100101001010101001010101001001010010110101001001010010011101001001111011110011000110111100010111101000011010011010101110010111111101101010110001010111001110011111010100010010110011111100000110010110100110001010111110111101100101111110011110110111111011001101001100011011100011111000001111100111000010110101001001010010010100100101001001010010010100100101001010101001010101001001010010110101001010101001010101001001010010111101100011100111001111010100100101001001010010010100101010100101010100100101001011010100101010100101010100100101001011010100101010100101010100100101001011010100100101001010110110010101001001010010010100100101001010101001010101001001010010110101001001010010101010010101010010010100101101010010010100100111101100100100111010111001011111110111110101001110101110000101010010010100100101001001010010101010010101010010010100101101010010010100101010100101010100100101001011010100100101001001101111100000111101100100001101100011110001101101010001101011010111001111001000100011011001101001101011011111011110110010111111011000110011011110101100110101001000000111111011110110010111011110011000011001010110111010010011110100011001111001001111001111110100110001010101111110011101011110101111101101100011000100001000101001001010010010100100101001001010010010100100101001010101001010101001001010010110101001010101001010101001001010010110101011111101111101010001111011111000010000001001100011011110001000010101001001010010010100100101001001010010010100100101001010101001010101001001010010110101001010101001010101001001010010111110010111111110011101111100111101101111010010110110111001111000010010101001010101001010101001001010010110101001001010010101010010101010010010100101101010010101010010101010010010100101101010010101010010101010010010100101101010010010100101010100101010100100101001011010100101010100101010100100101001011010100100100100111101011111011110011100111101010010010100100101001001010010010100100101001001010010010100101010100101010100100101001011010100101111100000111110101001110110010111001011100000111111000001111010100101010100101010100100101001011010100101010100101010100100101001011010100100101001010101001010101001001010010110101001010101001010101001001010010110101001010101001010101001001010010110101001001010010101010010101010010010100101101010010010100100101001010101001010101001001010010110101001001010010010100101010100101010100100101001011010100100101001010101001010101001001010010110101001001010010010100100101001010101001010101001001010010110101001001010010010100101010100101010100100101001011010100100101001001010010101010010101010010010100101101010010010100101010100101010100100101001011010100101010100101010100100101001011101110011110011101000001101011110111111011000101100011111100000111101011011111011111001000010010001101111000001001011001111110101011101101010100001001100011011100000101101111100000111111010000110010111010011011110111111010001111011000101101111100001000011000101001111111011111101100011011111011111000101000001101010011010010100111110110001111100111011111101001100010100111110100010000111100111101001000111100111010011110011100000110110110101111100010101110001000010111101101101011011110011101001111111100001000001011001100000101111011000101101111001110100000110111111010101001010101001010101001001010010110101001001010010010100101010100101010100100101001011010100100101001010101001010101001001010010110101001001010010101010010101010010010100101101010010101010010101010010010100101100011111101011011111000001110000100100111101110001101011011111011111100111011110001000010111101101101111110000011110001000100110101010010010100100101001001010010101010010101010010010100101101010010101010010101010010010100101101010010101010010101010010010100101101010010010100101010100101010100100101001011001011011110110100011010111011010011101001111011001000111001011110110110111001001011010111001110000010010110011111101100010001101011110011110110000001111110101111111100000101101011110101101010010010100100101001001010010010100100101001001010010010100100110111110000011111100111011111011111000010000001110100010000110001101111110000011110101001010101001010101001001010010110101001010101001010101001001010010110101001001010010101010010101010010010100101101010010101010010101010010010100101101010010101010010101010010010100101101010010010100101010100101010100100101001011010100100101001001010010101010010101010010010100101101010010010100100101001010101001010101001001010010110101001001010010101010010101010010010100101101010010010100100101001001010010101010010101010010010100101101010010010100100101001010101001010101001001010010110101001001010010101010010101010010010100101101010010010100101010100101010100100101001011010100100101001000011001110101001001010010101010010101010010010100101101010010010100101010100101010100100101001011010100100101001001010010010100100101001010101001010101001001010010110101001000101111011010001010111110000011111100111010110111101111010100100101001001010010010100101010100101010100100101001011010100100101001010101001010101001001010010110101001001010010100100001000111110101101111100000111110010011110011110101001010101001010101001001010010110101001001010010010100101010100101010100100101001011010100100101001001010010101010010101010010010100101101010010010100100101001010001101011111101010010010100101010100101010100100101001011010100100101001010101001010101001001010010110101001001010010010100100101001001010010101010010101010010010100101101010010010011011000010010101111100000111101010010010100100101001001010010010100100101001010101001010101001001010010110101001010101001010101001001010010110101001010101001010101001001010010110101001010101001010101001001010010110101001001010010010100100101001001010010010100100101001001010010010100101010100101010100100101001011010100100101001010101001010101001001010010110101001010101001010101001001010010110101001010101001010101001001010010110101001001010010101010010101010010010100101101010010101010010101010010010100101101010010010010011101011101100011110010101001010101001010101001001010010110101001001010010101010010101010010010100101101010010101010010101010010010100101101010010101010010101010010010100101101010010010100101010100101010100100101001011010100101010100101010100100101001011010100101011111100101001001111011001011110111100000100101100111100101101011000111111010001000100010101101111110001001010110011101100101111011111101111000010101001001010010010100100101001010101001010101001001010010110101001001010010101010010101010010010100101101010010010100100110111110000011110101001001010010101010010101010010010100101101010010010100101010100101010100100101001011010100100101001001010010010100100101001001010010110001010011011100010000110011001011011111001110111100010000111001101010011010011000110111000111110000011100111101101010011101001100010101011100111001011011111000001100110100100010111001111101111010100100101001001010010010100100101001001010010010100100101001010101001010101001001010010111110000101001100111101010010010100100101001001010010010100100101001001010010010100101010100101010100100101001011010100100101001011101010010010100100101001001010010010100100101001010101001010101001001010010110101001010101001010101001001010010110101001001010010010011001010101100001001101101000101001101111011111010100011100011011010100011011011100111101101000110101110110101111101010001011011010111110001010111000110111010110101101101111010100101010100101010100100101001011010100101010100101010100100101001011010100100101001001010010101010010101010010010100101101010010010100100101001010101001010101001001010010110101001001010010101010010101010010010100101101010010101010010101010010010100101101010010101010010101010010010100101101010010010100100101001010101001010101001001010010110101001001010010010100101010100101010100100101001011010100100101001010101001010101001001010010110101001010101001010101001001010010111111011111101011011010101001001010010010100100101001010101001010101001001010010110101001010101001010101001001010010110101001010101001010101001001010010110101001001010010101010010101010010010100101100110001010011011100101111110011011011011011111101011011111000001111010100100101001001010010010100101010100101010100100101001011010100100101001010101001010101001001010010110101001001010010101010010101010010010100101101010010111000010100110011111010111010100100101001001010010010100101010100101010100100101001011010100100101001010101001010101001001010010110101001001010010101010010101010010010100101101010010111000010100110011110101001010101001010101001001010010110101001001010010010100101010100101010100100101001011010100100101001010101001010101001001010010110101001001010010101010010101010010010100101101010010010100100101001001010010111010100100101001001010010010100100101001001010010101010010101010010010100101101010010101010010101010010010100101101010010010100100000110111001110010110111110000011001101001000101110011111001110111111000010001101011011010111100110100110111100000100101100111100101010010101010010101010010010100101101010010010100101010100101010100100101001011010100101010100101010100100101001011010100101010100101010100100101001011010100100101001010101001010101001001010010110101001010101001010101001001010010110101001001000110101100011110010111101101000001111010100100101001010101001010101001001010010110101001001010010101010010101010010010100101101010010010100100101001001010010010100100101001010101001010101001001010010111101100000011110110111010101011101010010101010010101010010010100101101010010010100100101001010101001010101001001010010110101001001010010010100101010100101010100100101001011010100100101001010101001010101001001010010110101001001011001000100110111101010010101010010101010010010100101101010010010100100101001010101001010101001001010010110101001001010010101010010101010010010100101101010010010100101010100101010100100101001011010100100101001010101001010101001001010010110101001010101000010100100101001001010010010100100101001001010010101010010101010010010100101101010010101010010101010010010100101101010010010100101011100111100000111000010111001101000010111110001010111110011101111000010100101101101110001111100000111001111101100100001000011011111010111110000011111100110100110111000100010011010101001001010010010100100101001010101001010101001001010010110101001010101001010101001001010010110101001010101001010101001001010010110101001001010010101010010101010010010100101100101101111100000111111001110111100001110101010101010100000011111101111110000011111100111010110111100001011101101101011011111010101001001010010010100100101001001010010010100100101001001010010100000111010110111000010101101111100001001101110010010110010100100101001001010010010100100101001001010010010100101010100101010100100101001011010100100101001010101001010101001001010010110101001010101001010101001001010010110101001010101001010101001001010010110001100111100100111100111111010001000100010101101111110001011010110011111011111000101011000010111001110110101011111000001111010110111111010001111011000101110110101011100101010010010100100101001001010010101010010101010010010100101101010010101010010101010010010100101101010010101010010101010010010100101101010010010100101010100101010100100101001011001100010011010010011010010101111100000111101000111000100001011010110010010010001101100110100010101101111011100111010001111011000110001001111010000110010110100101010111001110010101001010101001010101001001010010110101001001010010101010010101010010010100101101010010101010010101010010010100101101010010101010010101010010010100101101010010010100101010100101010100100101001011010100101010100101010100100101001011010100101011110011000010000001001011110110110110011010001010110111111010101011110111110000101100110010111101111000001001011001111110111001111010010010000101111011100111100000100101100111111000001111010110111111100100010001101011111100010110100011111010111100110100110100001010000101111011010101111011111000101000010000101110100001011110110001111110000010101001001010010010100100101001001010010010100101010100101010100100101001011010100101010100101010100100101001011010100101010100101010100100101001011010100101111101010111011010101000010011000110111000001011011110010111000010010110010100100101001001010010010100101010100101010100100101001011010100100101001010101001010101001001010010110101001001010010011101001001111010110111010101011100010111000110101111001100101101101011011110110010110001000100001100010100111111110111111001101011111001110110001001000101011111000001111010110111110111111000010100100101001001010010010100100101001001010010010100100101001010011110111000110100011001110101001001010010101010010101010010010100101101010010010100101010100101010100100101001011010100100101001001010010010100101010100101010100100101001011010100101010100101010100100101001011101001101111011111000010000001001100010100110111110100010001001010011100101101110000010010110011110110110111001010000110001010011111111000001111011001011011011110110110111001110010011000001011011100010110101100110001010011111100101111011010000011001000110111000101001101111101111110011101011011110011101000001101111110101010010101010010101010010010100101101010010010100100101001010101001010101001001010010110101001001010010101010010101010010010100101101010010010100101010100101010100100101001011010100101010100101010100100101001011000111111010110111010100101010100101010100100101001011010100100101001001010010101010010101010010010100101101010010010100101010100101010100100101001011010100100101001001010010101010010101010010010100101101010010101010010101010010010100101110000100101100100011000011011110101001001010010010100100101001010101001010101001001010010110101001010101001010101001001010010110101001010101001010101001001010010110101001001010010010010000101001010101001010101001001010010110101001001010010010100101010100101010100100101001011010100100101001010101001010101001001010010110101001001010010010100101010100101010100100101001011010100100101001010101001010101001001010010110101001010101001010101001001010010111101010101001101110101010111010100100101001001010010010100101010100101010100100101001011010100101010100101010100100101001011010100101010100101010100100101001011010100100101001001001000111010100100101001010101001010101001001010010110101001001010010101010010101010010010100101101010010010100100101001001010010101010010101010010010100101101010010100011010111100110011111011111101100011011110000010010110011110100011101001001101001101100011010111111101010111100110001101100110100101001110010110111100111010000010011000100110100110111001001011011111011110001011010001111101110010010110111110000011110101001010101001010101001001010010110101001010101001010101001001010010110101001001010010101010010101010010010100101101010010101010010101010010010100101101010010101010010101010010010100101101010010010100101010100101010100100101001011010100100101001001010010101010010101010010010100101101010010010100100101001010101001010101001001010010110101001001010010101010010101010010010100101101010010010100100101001001010010101010010101010010010100101101010010010100100101001010101001010101001001010010110101001001010010101010010101010010010100101101010010010100101010100101010100100101001011010100100101001011110101111011111000010001111001101001011110100101001101111100000111101010010101010010101010010010100101101010010101010010101010010010100101101010010010100101010100101010100100101001011010100101010100101010100100101001011010100101010100101010100100101001011010100100101001010101001010101001001010010110101001001010010010100101010100101010100100101001011010100100101001001010010101010010101010010010100101101010010010100101010100101010100100101001011010100100101001001010010010100100101001001010010010100101010100101010100100101001011010100100101001010101001010101001001010010110101001001010010101010010101010010010100101101010010000110011101010010010100100101001001010010101010010101010010010100101101010010101010010101010010010100101101010010101010010101010010010100101101010010010100100110000111111100010110101100111110011101000001101011111011011000110001000010001010010010100100101001001010010010100100101001001010010101010010101010010010100101101010010101010010101010010010100101101010111110010111111011101011001011010110100010101111011111101000111101101110011100111101010010101010010101010010010100101101010010010100101010100101010100100101001011010100101010100101010100100101001011010100101010100101010100100101001011010100100101001010101001010101001001010010110101001010101001010101001001010010110101001010101001010101001001010010111010011110011101010001100000111111000001111110011101111101111100000101100011000010000111101010010010100100101001001010010010100100101001001010010010100100101001010101001010101001001010010111011100111001011101101101000011001011110011101110001010111001011111101010010010100101010100101010100100101001011010100100101001010101001010101001001010010110101001001010010010100100101001010101001010101001001010010110101001010001101011110011010011011110101010111011000110010000101001010101001010101001001010010110101001001010010010100101010100101010100100101001011010100100101001001010010101010010101010010010100101101010010010100100101001010101001010101001001010010110111111001110011111000001101111101010001011011010101001001010010010100100101001010101001010101001001010010110101001010101001010101001001010010110101001010101001010101001001010010110101001001010010101010010101010010010100101100111111000001111100100110101001001010010101010010101010010010100101101010010010100101010100101010100100101001011010100100101001001010010010100101010100101010100100101001011010100101010100101010100100101001011111010100100101001001010010010100101010100101010100100101001011010100100101001010101001010101001001010010110101001001010010101010010101010010010100101101010010101010010101010010010100101101010010010100101010100101010100100101001011010100100101001001010010101010010101010010010100101101010010010100100101001010101001010101001001010010110101001001010010101010010101010010010100101101010010010100101010100101010100100101001011010100100101001010101001010101001001010010110101001010101001010101001001010010110101001010101001010101001001010010110101001001010010101010010101010010010100101101010010010100101010100101010100100101001011010100101010100101010100100101001011010100101010100101010100100101001011010100100101001001010010101010010101010010010100101101010010010100101010100101010100100101001011010100100101001010101001010101001001010010110101001001010010101010010101010010010100101101010010101010010101010010010100101110010011010100101010100101010100100101001011010100100101001010101001010101001001010010110101001010101001010101001001010010110101001010101001010101001001010010110101001001010010101010010101010010010100101101010010010100101010100101010100100101001011010100100101001010101001010101001001010010110101001001010010010100100101001001010010010100101010100101010100100101001011010100101010100101010100100101001011010100100101001010101001010101001001010010110101001001010010010100100101001010101001010101001001010010110101001010101001010101001001010010110101001010101001010101001001010010110101001001010010010100100101001010101001010101001001010010110101001001010010101010010101010010010100101101010010010100100101001001010010101010010101010010010100101101010010101010010101010010010100101110111001110011100111100001101011000001110011010111001100011011111100000111101010010010100101010100101010100100101001011010100100101001010101001010101001001010010110101001001010010010100100101001001010010010100100000111010101010101010000010110111110000100000010010111011001001010011100101101011100111000010101001001010010010100100101001010101001010101001001010010110101001001010010101010010101010010010100101101010010010100100110111101111101011000001100010100110101011101010101110010101001010101001010101001001010010110101001001010010101010010101010010010100101101010010101010010101010010010100101101010010101010010101010010010100101101010010010100101010100101010100100101001011010100101010100101010100100101001011010100100010111101101010111110000011110001101010110000110100101001001010010010100100101001001010010010100100101001010101001010101001001010010110101001001010010101010010101010010010100101101010010111011001011111100001011010011000101011100101101011001010010010100100101001001010010101010010101010010010100101101010010010100101010100101010100100101001011010100100101001011101010101101111000010101101010101111101101100010111010111101110001010000110011110010011011000111100001010001100000110101111101000100010001010110111111000110111011001011000111111011111000001110111001010001010010010100100101001001010010010100100101001001010010101010010101010010010100101101010010101010010101010010010100101111011100010101110011100111110111110000100000010011000111000100010011010101001001010010010100100101001010101001010101001001010010110101001010101001010101001001010010110101001010101001010101001001010010110101001001010010101010010101010010010100101100111110110100011010110110110110110010101001001010010010100100101001010101001010101001001010010110101001001010010101010010101010010010100101101010010010100100111101100100100111010111001011111101111010000100010000100001100101110000011111100000111101010010101010010101010010010100101101010010101010010101010010010100101101010010010100101010100101010100100101001011010100101010100101010100100101001011010100101010100101010100100101001011010100100101001010101001010101001001010010110101001001010010010100101010100101010100100101001011010100100101001001010010101010010101010010010100101101010010010100101010100101010100100101001011010100100101001001010010010100100101001001010010010100100101001001010010010100101010100101010100100101001011010100100101001010111001110110010010010000101101000010111110001010111110011101111100001011101101101111010100100101001010101001010101001001010010110101001001010010101010010101010010010100101101010010010100100101001001010010010100100101001010101001010101001001010010111101100000011110110111010100100101001001010010010100100101001001010010101010010101010010010100101101010010101010010101010010010100101101010010101010010101010010010100101101010010111010100100101001001010010010100101010100101010100100101001011010100100101001010101001010101001001010010110101001001010010101010010101010010010100101101010010101010010101010010010100101101010010101010010101010010010100101111010110000110101000111100100010110101001111011100111001011111101011011111110110010000100001101111101011111000001111010100100101001001010010010100100101001001010010010100101010100101010100100101001011010100100101001011100011011010100011010110111100111010011111101010010010100100101001001010010010100100101001001010010101010010101010010010100101101010010010100100101001001010010010100100101001001010010010100100101001010101001010101001001010010110101001001010010111000010100011101011101101010011000011001110101001001010010010100100101001001010010010100101010100101010100100101001011010100101010100101010100100101001011010100100101001010101001010101001001010010110100011111100100001100101111011000100100010101011100111000101101011001111000110111010110101101101111011000110111110110010000100001100101110000011111100000111101010010101010010101010010010100101101010010101010010101010010010100101101010010010100101010100101010100100101001011010100101010100101010100100101001011010100101010100101010100100101001011010100100101001010101001010101001001010010110101001001010010010100101010100101010100100101001011010100100101001001010010101010010101010010010100101101010010010100101010100101010100100101001011010100100101001001010010010100100101001010101001010101001001010010110101001001010010101010010101010010010100101101010010010100100101001001010010010100101010100101010100100101001011010100101010100101010100100101001011010100101010100101010100100101001011111000001001011001111001110011110101001010101001010101001001010010110101001001010010101010010101010010010100101101010010101010010101010010010100101101010010101010010101010010010100101101010010010100101010100101010100100101001011010100101010100101010100100101001011010100101010100101010100100101001011101001111001110101000110000011111100000111101010010010100100101001001010010101010010101010010010100101101010010101010010101010010010100101101010010101010010101010010010100101101010010010100100100100011101010010010100101010100101010100100101001011010100100101001010101001010101001001010010110101001001010010010100100101001010101001010101001001010010110101001010001101011110011001111101111100010101001000100011010000101010111110001000101100111001101001101111001110100000100110001001101001101110010010110111110111101110101100101101011010001010111101111110100011110110101110011110011101001111111100111011111000010111011011011110101001001010010101010010101010010010100101101010010010100101010100101010100100101001011010100100101001001010010010100100101001001010010101010010101010010010100101111011000000111101101110101001001010010010100100101001001010010010100101010100101010100100101001011010100101010100101010100100101001011010100101010100101010100100101001011010100101110101001001010010010100100101001010101001010101001001010010110101001001010010101010010101010010010100101101010010010100101010100101010100100101001011010100101010100101010100100101001011010100101010100101010100100101001011110101100001101010001111001000101101010011111101010010010100100101001001010010010100100101001010101001010101001001010010110101001010101001010101001001010010110101001010101001010101001001010010110101001011101010010010100100101001001010010010100100101001010101001010101001001010010110101001010101001010101001001010010110101001010101001010101001001010010110101001010101001010101001001010010110101001001010010010100100101001001010010010100100101001001010010010100101010100101010100100101001011010100100101001010101001010101001001010010110101001010101001010101001001010010110101001010101001010101001001010010110101001001010010101010010101010010010100101101010010101010010101010010010100101101010010010010011101011101010010101010010101010010010100101101010010010100100101001010101001010101001001010010110101001001010010101010010101010010010100101101010010010100100101001010101001010101001001010010110101001001010010000001001011001111001011111111001101001101111101010100101010100101010100100101001011010100100101001001010010101010010101010010010100101101010010010100101010100101010100100101001011010100100101001010101001010101001001010010110101001010101001010101001001010010111010011011110111110100110101100011000010010101000001011011110011110100001100101101001101100000011111101111101111101010001110101001001010010101010010101010010010100101101010010010100101010100101010100100101001011010100100101001001010010010100100101001001010010101010010101010010010100101111011000000111101101110101001001010010010100100101001001010010010100101010100101010100100101001011010100101010100101010100100101001011010100101010100101010100100101001011010100101110101001010101001010101001001010010110101001001010010010100101010100101010100100101001011010100100101001001010010101010010101010010010100101101010010010100101010100101010100100101001011010100100101100100010011011110101001010101001010101001001010010110101001001010010010100101010100101010100100101001011010100100101001010101001010101001001010010110101001001010010101010010101010010010100101101010010010100101010100101010100100101001011010100101010100001010010010100100101001001010010010100100101001010101001010101001001010010110101001010101001010101001001010010110101001001010010111010100100101001001010010010100100101001001010010101010010101010010010100101101010010101010010101010010010100101101010010101010010101010010010100101101010010111010100100101001001010010010100100101001001010010101010010101010010010100101101010010101010010101010010010100101101010010101010010101010010010100101101010010101010010101010010010100101101010010010100100101001001010010010100100101001001010010010100100101001010101001010101001001010010110101001001010010101010010101010010010100101101010010101010010101010010010100101101010010101010010101010010010100101101010010010100101010100101010100100101001011010100101010100101010100100101001011010100100100100111010010100100101001010101001010101001001010010110101001001010010101010010101010010010100101101010010010100100101001001010010010100101010100101010100100101001011010100101010100101010100100101001011010100101111011000101110100001011111000101011111011111001011101010001100010101111101111100000110111110000010110001011110110110101111011000101101111100000111001111100100010101001011010000110000111101011100010111000110101111001101010010010100100101001001010010010100100101001001010010010100100110000110011101010010010100101010100101010100100101001011010100100101001010101001010101001001010010110101001001010010010100100101001010101001010101001001010010110101001010101001010101001001010010111010011011100010110101101111001101001010011111011000010010100110111100111101110010100000101101001001111011000101001111111101110011110010001000010111101101010111100111010000011010111110000011110110010110000111011110100000011011111010100010110110101111001101001101111010101011011110000010010110011110101001001010010101010010101010010010100101101010010010100101010100101010100100101001011010100100101001001010010010100100101001001010010001011111101110101100101101011010001010011011111000000111111010110101110011111001110111111010011000101001111101000100001111011110101110110010101111001101011110011101001110110101100100101100101101010100011110101101111110000100111000010010101111100000111110110100011010111011010111110101000101100011111100000111110111100110000110101001111101011011101010101111001011010000101110010110101110011101100100011110101111011011010000110010110100010100100101001001010010010100100101001001010010010100100101001001111011100111010101011100001010100100101001001010010010100101010100101010100100101001011010100100101001010101001010101001001010010110101001001010010011011101000000110111110101000101101101011110110001111110101010010101010010101010010010100101101010010010100100101001010101001010101001001010010110101001001010010010100101010100101010100100101001011010100100101001001010010101010010101010010010100101101111011100111110011101111101111101001100100100101101001100101001100011011100011110011010000110001011011011110101010111001000101100110011101100100000100110111111000001111100111010000010101101110100100111101100110100010101101111110010111101101000001111110011010011011100011011010000011001011100000101100001100111100100111100111101111010000011001011100000111101010010101010010101010010010100101101010010010100101010100101010100100101001011010100101010100101010100100101001011010100101010100101010100100101001011010100100101001010101001010101001001010010110101001010101001010101001001010010110101001010101001010101001001010010111010011110011101010001100000111101100100100100001110100000101101001001111011110010111111010011000010010100000111011110001011100011010111100110101001001010010010100100101001001010010010100100101001001010010011011110011101001111001110101000110000100110111101010101110010110101100011110010110111001110011110110010010010000111101011110010111101010100100101001001010010010100101010100101010100100101001011010100101010100101010100100101001011010100101010100101010100100101001011010100100101001010101001010101001001010010111010111001110011111001101011110111001101110011110011010000110001011011010000100101111011000110111001110110001111010001110110101111010010001101011111111010001101101010001101111100111010000011010111001011111100111001111000101101011101100101110001010111110011101011011110000011100111011001101001010011100101101110010111101101000001111011101011001011010110100010100110111101111010110011001011110011010011001010010010100100101001001010010010100100101001001010010101010010101010010010100101101010010010100101010100101010100100101001011010100101010100101010100100101001011010100101010100101010100100101001011000110011110010011110011110001000101100111001101011110110010110001001010111010110111110111111000010111000110110011010001010110111111101101010101101101110011111100000111101010010101010010101010010010100101101010010010100100101001010101001010101001001010010110101001001010010101010010101010010010100101101010010010100100101001011100011011010100011010110111100111010011111101010010010100100101001001010010010100100101001001010010010100101010100101010100100101001011010100100101001001010010010100100101001001010010010100100101001010101001010101001001010010111110000101000111010111011010100110101110011100011011101100110100001011111000101011101011011111011110010110100111101110011101111110000011110101001010101001010101001001010010110101001001010010010100101010100101010100100101001011010100100101001001010010101010010101010010010100101101010010010100101010100101010100100101001011010100101010100101010100100101001011010100101010100101010100100101001011010100100101001001010010101010010101010010010100101101010010010100101010100101010100100101001011010100100101001010101001010101001001010010110101001001010010111000010100011101011101101010011011100101111110101001001010010010100100101001010101001010101001001010010110101001001010010101010010101010010010100101101010010010100101010100101010100100101001011010100101010100101010100100101001011010100101010100101010100100101001011110101100001101010001111001000101101010011111110111111011000110111110011110110001001000110110001111001110100000110010110101101101011001001001011110010010001100111100100111100111101010010101010010101010010010100101101010010010100101010100101010100100101001011010100101010100101010100100101001011010100101010100101010100100101001011010100100101001010101001010101001001010010110101001010101001010101001001010010110101001010101001010101001001010010111010011110011101010001100000111101101010100101110000010001001010110010101011111101100011000100001001011010101000010010101110000100101010010101010010101010010010100101101010010010100101010100101010100100101001011010100101010100101010100100101001011010100101010100101010100100101001011010100100101001010101001010101001001010010110101001010101001010101001001010010110101001001001001111010111101011110111110101000111100110101111011011010001010111110101010010101010010101010010010100101101010010010100100101001010101001010101001001010010110101001001010010101010010101010010010100101101010010010100101010100101010100100101001011010100101010100101010100100101001011101001101011100111011001000010111110001010111011001011111010100101010100101010100100101001011010100100101001001010010101010010101010010010100101101010010010100100101001010101001010101001001010010110101001001010010010100101010100101010100100101001011110011011001000000110101111100000101101011110011001000010110011110011100111101010010101010010101010010010100101111111000001111011110100001000100001000011001011100000111111000001111010100101010100101010100100101001011010100101010100101010100100101001011010100100101001010101001010101001001010010110101001010101001010101001001010010110101001010101001010101001001010010110101001001010010101010010101010010010100101101010010010100100101001001010010101010010101010010010100101101010010010100101010100101010100100101001011010100100101001001010010010100100101001010101001010101001001010010110101001010101001010101001001010010110101001010101001010101001001010010110101001001010010010100100101001001010010010100100101001001010010101010010101010010010100101101010010010100100101001001010010010100100101001001010010101010010101010010010100101101010010010100101010100101010100100101001011010100101110010110101101101111110000011001101000110010001010110111111110011101111101101010000010101011111110011101111001000011011111000001011011011110101001001010010010100100101001010101001010101001001010010110101001010101001010101001001010010110101001010101001010101001001010010110101001001010010010010001110101001001010010101010010101010010010100101101010010010100101010100101010100100101001011010100100101001001010010010100101010100101010100100101001011010100101000110101111001100111110110100011010110111110110011001101111101101101100011100000100101100111100111001111101111100000110011010010101111100000111001111101111110101101101010100100101001001010010010100101010100101010100100101001011010100101010100101010100100101001011010100101010100101010100100101001011010100100101001010101001010101001001010010110011110011000110111111000001000011101011001001101110001010111001110010010001001101110001010111101111110110001101111110011010011011101011011001011110110000100101001101111100000111100101101011000111100001001110000100101011111000001111101101000110101110110101111101010001011000111100101111110011100111110111111010001111011000011001111001001101111110011100111111011000101100001111100110101111001101011101010010010100101010100101010100100101001011010100100101001010101001010101001001010010110101001001010010010100100101001001010010010100100101001001010010010100100101001010101001010101001001010010110101001010101001010101001001010010110101001010101001010101001001010010110101001001010010011110110001111100110100001011110110101001101111100000111110111100110000110101001111101011010111001110011100111101010010101010010101010010010100101101010010010100101010100101010100100101001011010100101010100101010100100101001011010100101010100101010100100101001011010100100101001010101001010101001001010010110101001010101001010101001001010010110101001010101001010101001001010010111010011110011101010001100000111111000010001010010010100100101001001010010101010010101010010010100101101010010101010010101010010010100101101010010101010010101010010010100101101010010010100101010100101010100100101001011101011111011100001000101011011011111011110101001001010010010100100101001001010010010100101010100101010100100101001011010100101010100101010100100101001011010100101010100101010100100101001011010100101010100101010100100101001011010100100101001001010010010100100101001001010010010100100101001001010010101010010101010010010100101101010010010100101010100101010100100101001011010100101010100101010100100101001011010100101010100101010100100101001011010100100101001010101001010101001001010010110101001010101001010101001001010010110101001001001001110100101001001010010010100100101001001010010010100100101001010101001010101001001010010110101001001010010101010010101010010010100101101010010101010010101010010010100101101010010101010010101010010010100101110111001110101001010101001010101001001010010110101001001010010010100101010100101010100100101001011010100100101001010101001010101001001010010110101001001010010010100101010100101010100100101001011010100100101001010101001010101001001010010110101001001011110101111110101001010101001010101001001010010110101001001010010101010010101010010010100101101010010101010010101010010010100101101010010101010010101010010010100101101010010010100101010100101010100100101001011010100100101001010101001010101001001010010110101001001010010101010010101010010010100101110101100010000001111100100001011001010100100101001001010010010100100101001001010010010100101010100101010100100101001011010100101010100101010100100101001011111100111010011110110010101111111011111100110100110111110010011001110110101010000010110111110000011111001001101010010010100101010100101010100100101001011010100100101001010101001010101001001010010110101001001010010010100100101001010101001010101001001010010110101001010101001010101001001010010111110101001001010010010100100101001010101001010101001001010010110101001001010010101010010101010010010100101101010010010100101010100101010100100101001011010100101010100101010100100101001011010100100101001010101001010101001001010010110101001001010010010100101010100101010100100101001011010100100101001001010010101010010101010010010100101101010010010100101010100101010100100101001011010100100101001010101001010101001001010010110101001001010010101010010101010010010100101101010010101010010101010010010100101101010010101010010101010010010100101101010010010100101010100101010100100101001011010100100101001010101001010101001001010010110101001010101001010101001001010010110101001010101001010101001001010010110101001001010010010100101010100101010100100101001011010100100101001010101001010101001001010010110101001001010010101010010101010010010100101101010010010100101010100101010100100101001011010100101010100101010100100101001011100100110101001010101001010101001001010010110101001001010010101010010101010010010100101101010010101010010101010010010100101101010010101010010101010010010100101101010010010100101010100101010100100101001011010100100101001010101001010101001001010010110101001001010010101010010101010010010100101101010010010100100101001001010010010100100101001010101001010101001001010010110101001010101001010101001001010010110101001001010010101010010101010010010100101101010010010100100101001001010010101010010101010010010100101101010010101010010101010010010100101101010010101010010101010010010100101101010010010100100101001001010010101010010101010010010100101101010010010100101010100101010100100101001011010100100101001001010010010100101010100101010100100101001011010100101010100101010100100101001011111001110011111101000011001011010000101111011000111100000100101100111101100011110001000100000100010001010111110010111111110011101011011111010001011010110011000110101101111100000111001111010100100101001001010010010100101010100101010100100101001011010100101010100101010100100101001011010100101010100101010100100101001011010100100101001001010010101010010101010010010100101101010010010100101010100101010100100101001011010100101010100101010100100101001011010100101010100101010100100101001011010100100101001010101001010101001001010010110101001001010010101010010101010010010100101101010010101010010101010010010100101101010010101010010101010010010100101101010010010100101010100101010100100101001011010100101010100101010100100101001011010100101010100101010100100101001011010100100101001010101001010101001001010010110101001010101001010101001001010010110101001010101001010101001001010010110101001001010010010100100101001001010010010100101010100101010100100101001011010100101010100101010100100101001011010100101010100101010100100101001011010100101010100101010100100101001011010100101010100101010100100101001011010100100101001010101001010101001001010010110101001010101001010101001001010010110101001010101001010101001001010010110101001001010010101010010101010010010100101101010010010100101010100101010100100101001011010100100101001001010010101010010101010010010100101101010010101010010101010010010100101101010010010100101010100101010100100101001011010100100101001010101001010101001001010010110101001001010010010100100101001001010010010100100101001001010010010100100101001001010010010100101010100101010100100101001011010100101010100101010100100101001011010100100101001010101001010101001001010010110100011111101110100011110010000101101111101111100110011000001000011010011101001101111010101011100010111000001011110110001111110111111001110111100001010010001101110001101111110000011111001101000010111101101010011011111000001111101111001100001101010011111010110111000001001011001111000101101011001100010100111111110111111000001011010111100111000010010001100110101011100111001110011110110010111011110011000011001010110111010010011101011101010010101010010101010010010100101101010010010100101010100101010100100101001011010100101010100101010100100101001011010100101010100101010100100101001011010100100101001010101001010101001001010010110101001010101001010101001001010010110101001010101001010101001001010010111010011110011101010001100000111101100011110011100100100010001010111110010111111110011010011011111010100100000101101111011111101100011011110111101011100010010101100100010000110000001100010100101010100101010100100101001011010100100101001010101001010101001001010010110101001010101001010101001001010010110101001010101001010101001001010010110101001001010010101010010101010010010100101101010010010100101010100101010100100101001011010100100101001001010010101010010101010010010100101101010010\n"
     ]
    }
   ],
   "source": [
    "print(encoded_text)"
   ]
  },
  {
   "cell_type": "code",
   "execution_count": 273,
   "metadata": {},
   "outputs": [],
   "source": [
    "#To generate the string.\n",
    "decoded_text = ''\n",
    "#Droping iterator beacuse it is not used\n",
    "for _ in range(len(mytext)):\n",
    "    \n",
    "    for char, code in coding_dic.items():\n",
    "        \n",
    "       #Getting the letter and the code\n",
    "        try:\n",
    "            post = encoded_text.index(code)\n",
    "            if post == 0:\n",
    "                decoded_text = decoded_text + char\n",
    "                encoded_text = encoded_text[len(code):]\n",
    "        except:\n",
    "            continue\n"
   ]
  },
  {
   "cell_type": "code",
   "execution_count": 274,
   "metadata": {},
   "outputs": [
    {
     "name": "stdout",
     "output_type": "stream",
     "text": [
      "El 0oYiou000oYiou000oYiou000oYioultimo vuelo del 0oYiou00oYiou0oYiou0oYiou00oYiou0oYiou0oYiouoncordeEl 0oYiou00oYiou0oYiou0oYiou00oYiou0oYiou0oYiouoncorde, el primer avión supersónico para transporte de pasa0000oYiou0oYiou0oYiou00oYioueros, estuvo operativo desde 0oYiou0oYiou00oYiou0oYiou0oYiou00oYiou000oYiou000oYiou00oYiou0000000oYiou00oYiou00oYiou0 hasta 00000000oYiou000000000oYiou00. 00oYiou00oYiou00000oYiou0ecían que el cielo era el límite del ser humano, pero en cuanto fue posible demostramos que no era así0000000oYiou00oYiou0 que podíamos llegar mucho m0000oYiou00oYiou00s le0000oYiou0oYiou0oYiou00oYiouos. 00oYiou00oYiou00000oYiou0esde los dise0oYiou000oYiou00oYiou00oYiou0oYiouos nacidos de la brillante mente de 00oYiou00oYiou0000oYiou0oYioueonardo da 0oYiou000oYiou00oYiou00oYiou00oYiou0oYiouinci hasta el primer 000000000oYiou00oYiou0oYiou0oYiou00oYiou0oYiou0ito de los hermanos 0000oYiou00oYiou00oYiou0oYiou0oYiouright, la historia de la aviación resulta tan fascinante como intensa y ha marcado algunos de los momentos clave para la humanidad. Entre ellos queremos destacar el avión supersónico 0oYiou00oYiou0oYiou0oYiou00oYiou0oYiou0oYiouoncorde, un e0000oYiou0oYiou0oYiou00oYiouemplo de las ansias del ser humano por ir m0000oYiou00oYiou00s le0000oYiou0oYiou0oYiou00oYiouos. El proyecto nació en la d00000000cada de 0oYiou0oYiou00oYiou0oYiou0oYiou00oYiou000oYiou000oYiou00oYiou00oYiou000, en plena 0oYiou000oYiou000oYiou000uerra 00oYiou00oYiou0000oYiou0ría. Estados 0000oYiou00oYiou00oYiou0oYiou0nidos, 0oYiou000oYiou000oYiou000ran 0oYiou000oYiou00oYiou000oYiou0oYioureta0oYiou000oYiou00oYiou00oYiou0oYioua, 00oYiou00oYiou0000oYiou0rancia y la 0000oYiou00oYiou00oYiou0oYiou0nión 000000oYiou0oYiou00oYiouovi00000000tica comen0000000oYiou0oYiouaron a plantearse la posibilidad de crear un avión comercial que fuera capa0000000oYiou0oYiou de alcan0000000oYiou0oYiouar velocidades supersónicas 0oYiou000oYiou00oYiou000oYiou00por encima de los 0oYiou00000000oYiou0000000oYiou000oYiou000oYiou000oYiou00oYiou0oYiou.00oYiou00oYiou00000oYiou0oYiou0oYiou000000oYiou0oYiou00m0000000oYiou00oYiou0oYiou0h00oYiou00oYiou00000oYiou0oYiou0. 0000oYiou0oYiou0oYiou00unque la idea rondaba por el ambiente, solo 00oYiou00oYiou0000oYiou0rancia y 0oYiou000oYiou000oYiou000ran 0oYiou000oYiou00oYiou000oYiou0oYioureta0oYiou000oYiou00oYiou00oYiou0oYioua la afrontaron seriamente y comen0000000oYiou0oYiouaron a dise0oYiou000oYiou00oYiou00oYiou0oYiouar proyectos independientes financiados, en gran parte, por sus gobiernos. 00oYiou00oYiou00000oYiou0ie0000000oYiou0oYiou a0oYiou000oYiou00oYiou00oYiou0oYiouos despu00000000s, en 0oYiou0oYiou00oYiou0oYiou0oYiou00oYiou000000oYiou00oYiou00oYiou00, 0oYiou000oYiou000oYiou000ran 0oYiou000oYiou00oYiou000oYiou0oYioureta0oYiou000oYiou00oYiou00oYiou0oYioua tenía un dise0oYiou000oYiou00oYiou00oYiou0oYiouo listo para su construcción, pero los enormes costes que supondría obligaron al país a llegar a un acuerdo de colaboración con 00oYiou00oYiou0000oYiou0rancia. El nombre de 0oYiou00oYiou0oYiou0oYiou00oYiou0oYiou0oYiouoncorde 0oYiou000oYiou00oYiou000oYiou00concordia00oYiou00oYiou00000oYiou0oYiou0 hace referencia precisamente a este traba0000oYiou0oYiou0oYiou00oYiouo con0000oYiou0oYiou0oYiou00oYiouunto que ambos países llevaron a cabo. El primer vuelo tuvo lugar en mar0000000oYiou0oYiouo de 0oYiou0oYiou00oYiou0oYiou0oYiou00oYiou000000oYiou00oYiou00oYiou00oYiou00oYiou0oYiou0oYiou00oYiou00 y se introdu0000oYiou0oYiou0oYiou00oYiouo en las aerolíneas de forma regular a partir del 00000000oYiou0oYiou de enero de 0oYiou0oYiou00oYiou0oYiou0oYiou00oYiou000oYiou000oYiou00oYiou0000000oYiou00oYiou00oYiou0. 0oYiou000oYiou00oYiou000oYiou0oYiouritish 0000oYiou0oYiou0oYiou00irlines y 0000oYiou0oYiou0oYiou00ir 00oYiou00oYiou0000oYiou0rance fueron las dos compa0oYiou000oYiou00oYiou00oYiou0oYiouías propietarias de este tipo de aviones, aunque alquilaron algunos a 0oYiou000oYiou00oYiou000oYiou0oYiouraniff 0oYiou00oYiou0oYiou0oYiou00oYiou00oYiou0oYiounternational 0000oYiou0oYiou0oYiou00ir0oYiou000oYiou00oYiou000oYiou00oYiou0oYiouays y 000000oYiou0oYiou00oYiouingapore 0000oYiou0oYiou0oYiou00irlines. 00oYiou00oYiou0000oYiou0oYiouos vuelos podían recorrer la distancia entre 00oYiou00oYiou0000oYiou0oYiouondres y 0oYiou000oYiou000oYiou00oYiou0ueva 0oYiou000oYiou00oYiou00oYiou00oYiou0or000000oYiou0oYiou00 en poco m0000oYiou00oYiou00s de 0000000oYiou00 horas y podían alcan0000000oYiou0oYiouar una velocidad m0000oYiou00oYiou000oYiou00oYiou0oYiou0oYiou00oYiou0oYiou0ima de 00000000oYiou.0oYiou0oYiou000oYiou00oYiou0000oYiou00oYiou0oYiou0oYiou00oYiou00000000oYiou0oYiou00m0000000oYiou00oYiou0oYiou0h. 0oYiou00oYiou0oYiou0oYiou00oYiou00oYiou00oYioueali0000000oYiou0oYiouó principalmente a los aeropuertos de 00oYiou00oYiou000000oYiouarís, 00oYiou00oYiou0000oYiou0oYiouondres, 0oYiou000oYiou000oYiou00oYiou0ueva 0oYiou000oYiou00oYiou00oYiou00oYiou0or000000oYiou0oYiou00 y 0000oYiou00oYiou00oYiou0oYiou0oYiouashington y entre los 00000000oYiou.0oYiou000oYiou00oYiou00oYiou00 millones de pasa0000oYiou0oYiou0oYiou00oYioueros que trasladó en los 00000000oYiou0oYiou000oYiou00oYiou000 a0oYiou000oYiou00oYiou00oYiou0oYiouos en que estuvo activo se destacan 000000oYiou0oYiou0oYiou0oYiouic000000oYiou0oYiou00 0oYiou000oYiou00oYiou000oYiou00oYiou0agger, 000000oYiou0oYiou00oYiouean 0oYiou00oYiou0oYiou0oYiou00oYiou0oYiou0oYiouonnery, Eli0000000oYiou0oYiouabeth 0oYiou00oYiou0oYiou0oYiou00oYiou00oYiou0000oYiouaylor o la reina 0oYiou00oYiou0oYiou0oYiou00oYiou00oYiou0oYiousabel 0oYiou00oYiou0oYiou0oYiou00oYiou00oYiou0oYiou0oYiou00oYiou0oYiou0oYiou00oYiou00oYiou0oYiou de 0oYiou00oYiou0oYiou0oYiou00oYiou00oYiou0oYiounglaterra. 0000oYiou0oYiou0oYiou00unque el 0oYiou00oYiou0oYiou0oYiou00oYiou0oYiou0oYiouoncorde suponía un impresionante avance tecnológico y una obra de ingeniería digna de admiración, las cosas no salieron como se esperaba. El mantenimiento de la aeronave era muy alto y el consumo de combustible mucho mayor del de otros aviones, lo que hi0000000oYiou0oYiouo que los precios de los billetes llegaran a alcan0000000oYiou0oYiouar precios e0oYiou00oYiou0oYiou0oYiou00oYiou0oYiou0orbitados de hasta 0oYiou0.000 dólares. 0000oYiou0oYiou0oYiou00dem0000oYiou00oYiou00s, en 0000oYiou0oYiou0oYiou00oYiouulio del 00000000oYiou000, el vuelo 0oYiou000oYiou000oYiou00oYiou0oYiou0oYiou000oYiou00oYiou00oYiou000oYiou00oYiou0oYiou0oYiou00oYiou000 de 0000oYiou0oYiou0oYiou00ir 00oYiou00oYiou0000oYiou0rance sufrió un accidente durante el vuelo y se estrelló en la ciudad francesa de 0oYiou000oYiou000oYiou000onesse. 0oYiou00oYiou0oYiou0oYiou00oYiou00oYiou0000ubo m0000oYiou00oYiou00s de 0oYiou00 muertos entre los pasa0000oYiou0oYiou0oYiou00oYioueros, la tripulación y el personal en tierra.Este incidente, los costes de mantenimiento y la caída en la demanda de vuelos tras los atentados del 0oYiou0oYiou000000oYiou0oYiou0oYiou0000000oYiou0oYiou00oYioueptiembre hicieron que 0000oYiou0oYiou0oYiou00ir 00oYiou00oYiou0000oYiou0rance y 0oYiou000oYiou00oYiou000oYiou0oYiouritish 0000oYiou0oYiou0oYiou00irlines decidieron poner fin a los 00000000oYiou0oYiou000oYiou00oYiou000 a0oYiou000oYiou00oYiou00oYiou0oYiouos de servicio y retirar los aviones 0oYiou00oYiou0oYiou0oYiou00oYiou0oYiou0oYiouoncorde. 000000oYiou0oYiou00oYiouu 0oYiou000oYiou000oYiou000oYioultimo vuelo se produ0000oYiou0oYiou0oYiou00oYiouo el 00000000oYiou0000oYiou00oYiou00oYiou0 de noviembre del 00000000oYiou000000000oYiou00. 00oYiou00oYiou0000oYiou0oYiouos 0oYiou0000oYiou00oYiou00oYiou0 modelos que fueron empleados para vuelos comerciales y dos de los prototipos est0000oYiou00oYiou00n guardados en distintos museos del mundo como recuerdo del hito que supuso el 0oYiou00oYiou0oYiou0oYiou00oYiou0oYiou0oYiouoncorde.El avión supersónico que venía a 000000oYiou0oYiou0oYiou0oYiou000000000oYiou00oYiou0oYiou0oYiou00oYiou0oYiou0icoEsta aeronave de tecnología brit0000oYiou00oYiou00nico000000oYiou0oYiou0oYiou0francesa logró fama mundial por acortar a lamitad rutas internacionales. 0oYiou000oYiou00oYiou00oYiou00oYiou0oYiouisitó 000000oYiou0oYiou0oYiou0oYiou000000000oYiou00oYiou0oYiou0oYiou00oYiou0oYiou0ico por tan solo cuatro a0oYiou000oYiou00oYiou00oYiou0oYiouos, pero su llegadasiempre era espectacular, el sonido de sus potentes motores lo hacía 0oYiou000oYiou000oYiou000oYiounico 0000oYiou00oYiou00oYiou0oYiou0n suceso que comparte 000000oYiou0oYiou0oYiou0oYiou000000000oYiou00oYiou0oYiou0oYiou00oYiou0oYiou0ico con varios países del mundo es cuando el 0oYiou00oYiou0oYiou0oYiou00oYiou0oYiou0oYiouoncorde volaba sobre su territorio0000000oYiou00oYiou0 el avión de manufactura franco000000oYiou0oYiou0oYiou0brit0000oYiou00oYiou00nica era famoso en todo el orbe debido a su capacidad de cru0000000oYiou0oYiouar el 0000oYiou0oYiou0oYiou00tl0000oYiou00oYiou00ntico en poco m0000oYiou00oYiou00s de siete horas, gracias a su tecnología supersónica. El aeroplano aterri0000000oYiou0oYiouó por primera ve0000000oYiou0oYiou en la capital me0oYiou00oYiou0oYiou0oYiou00oYiou0oYiou0icana el 00000000oYiou0 de octubre de 0oYiou0oYiou00oYiou0oYiou0oYiou00oYiou000oYiou000oYiou00oYiou0000oYiou000oYiou000oYiou00oYiou0oYiou, como parte de una gira que autoridades de ambos países dieron para promocionar la aeronave e ir concretando ventas con diferentes compa0oYiou000oYiou00oYiou00oYiou0oYiouías dedicadas a la venta de via0000oYiou0oYiou0oYiou00oYioues transcontinentales, que arrancarían despu00000000s de la primavera de 0oYiou0oYiou00oYiou0oYiou0oYiou00oYiou000oYiou000oYiou00oYiou0000oYiou000oYiou00oYiou00oYiou00. 00oYiou00oYiou00000oYiou0entro de las p0000oYiou00oYiou00ginas de El 0oYiou000oYiou000oYiou000ran 00oYiou00oYiou00000oYiou0iario de 000000oYiou0oYiou0oYiou0oYiou000000000oYiou00oYiou0oYiou0oYiou00oYiou0oYiou0ico se e0oYiou00oYiou0oYiou0oYiou00oYiou0oYiou0plicaba que este avión volaba a m0000oYiou00oYiou00s de 00oYiou00oYiou000000dos veces la velocidad del sonido, es decir, a 00000000oYiou mil 00000000oYiou00 000000oYiou0oYiou00ilómetros por hora, transportando hasta 0oYiou0oYiou000oYiou000oYiou00oYiou0oYiou0oYiou000oYiou000oYiou00oYiou0oYiou pasa0000oYiou0oYiou0oYiou00oYioueros en etapas de 0000oYiou00oYiou00oYiou0 mil o 0000oYiou00oYiou00oYiou0 mil 0oYiou000oYiou00oYiou00oYiou0000 000000oYiou0oYiou00m, es decir, la distancia que e0oYiou00oYiou0oYiou0oYiou00oYiou0oYiou0iste entre 00oYiou00oYiou000000oYiouarís y 0oYiou000oYiou000oYiou00oYiou0ueva 0oYiou000oYiou00oYiou00oYiou00oYiou0or000000oYiou0oYiou00, reduciendo la mitad del tiempo de los via0000oYiou0oYiou0oYiou00oYioues de la mayoría de las rutas a00000000reas mundiales0000000oYiou00oYiou0oYiou0oYiou. El avión fue producto de un intenso e0000oYiou0oYiou0oYiou00oYiouercicio de investigación, intercambio, e0oYiou00oYiou0oYiou0oYiou00oYiou0oYiou0perimentación y prueba que al igual que de un gran financiamiento proveniente de000000oYiou0oYiou0oYiou0 autoridades brit0000oYiou00oYiou00nicas y francesas tuvieron a lo largo de una d00000000cada. 00oYiou00oYiou0000oYiou0oYiouos primeros aviones que salieron de sus talleres fueron entregados a las compa0oYiou000oYiou00oYiou00oYiou0oYiouías 0oYiou000oYiou00oYiou000oYiou0oYiouritish 0000oYiou0oYiou0oYiou00ir0oYiou000oYiou00oYiou000oYiou00oYiou0oYiouays y 0000oYiou0oYiou0oYiou00ir 00oYiou00oYiou0000oYiou0rance para que iniciaran operaciones comerciales a finales de 0oYiou0oYiou00oYiou0oYiou0oYiou00oYiou000oYiou000oYiou00oYiou0000oYiou000oYiou00oYiou00oYiou00 o principios de 0oYiou0oYiou00oYiou0oYiou0oYiou00oYiou000oYiou000oYiou00oYiou0000000oYiou00oYiou00oYiou0. 0000oYiou0oYiou0oYiou00sí fue como aterri0000000oYiou0oYiouó en nuestro país el 0oYiou00oYiou0oYiou0oYiou00oYiou0oYiou0oYiouoncorde de la preserie 000000000oYiou, ensamblado en 00oYiou00oYiou0000oYiou0rancia y seg0oYiou000oYiou000oYiou000oYioun el reporta0000oYiou0oYiou0oYiou00oYioue de E00oYiou00oYiou0000oYiou0oYiou 0000oYiou00oYiou00oYiou0oYiou00oYiou000oYiou000oYiou00oYiou00oYiou00oYiou0oYiou0oYiou00oYiou00oYiou0oYiou0oYiou000oYiou00oYiou00oYiou00oYiou0oYiouE0oYiou00oYiou0oYiou0oYiou00oYiou00oYiou00oYiou000000oYiou0oYiou00oYiou0000oYiou0oYiou0oYiou0000oYiou00oYiou0000oYiou0oYiou, el modelo era de 00oYiou00oYiou000000mayores dimensiones, m0000oYiou00oYiou00s poderoso y e0oYiou00oYiou0oYiou0oYiou00oYiou0oYiou0ento de humo0000000oYiou00oYiou0 su ruido est0000oYiou00oYiou00 ya muy atenuado. Ese mismo avión había reali0000000oYiou0oYiouado el primer via0\n"
     ]
    }
   ],
   "source": [
    "print(decoded_text)"
   ]
  },
  {
   "cell_type": "code",
   "execution_count": 248,
   "metadata": {},
   "outputs": [
    {
     "name": "stdout",
     "output_type": "stream",
     "text": [
      "The total characters decodificated from the decoded_text are: 1204 wich is the same as the beggining\n"
     ]
    }
   ],
   "source": [
    "print(f\"The total characters decodificated from the decoded_text are: {len(decoded_text)} wich is the same as the beggining\")"
   ]
  }
 ],
 "metadata": {
  "kernelspec": {
   "display_name": "Python 3",
   "language": "python",
   "name": "python3"
  },
  "language_info": {
   "codemirror_mode": {
    "name": "ipython",
    "version": 3
   },
   "file_extension": ".py",
   "mimetype": "text/x-python",
   "name": "python",
   "nbconvert_exporter": "python",
   "pygments_lexer": "ipython3",
   "version": "3.7.6"
  }
 },
 "nbformat": 4,
 "nbformat_minor": 4
}
